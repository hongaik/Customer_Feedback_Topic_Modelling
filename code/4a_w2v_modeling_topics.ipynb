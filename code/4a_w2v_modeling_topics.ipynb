{
 "cells": [
  {
   "cell_type": "code",
   "execution_count": 1,
   "id": "eefca807-4f41-4ab7-aec5-8b82102af590",
   "metadata": {
    "tags": []
   },
   "outputs": [],
   "source": [
    "import pandas as pd, numpy as np, seaborn as sns, matplotlib.pyplot as plt\n",
    "from datetime import datetime\n",
    "from sklearn.multioutput import MultiOutputClassifier\n",
    "from sklearn.svm import SVC\n",
    "from sklearn.ensemble import RandomForestClassifier, AdaBoostClassifier\n",
    "from sklearn.model_selection import train_test_split, GridSearchCV, StratifiedKFold\n",
    "from sklearn.neural_network import MLPClassifier\n",
    "from sklearn.linear_model import LogisticRegression\n",
    "from sklearn.multiclass import OneVsRestClassifier\n",
    "from sklearn.metrics import classification_report, confusion_matrix, cohen_kappa_score, f1_score, precision_score, recall_score\n",
    "from sklearn.utils import shuffle\n",
    "from transformers import pipeline\n",
    "from gensim.models.keyedvectors import KeyedVectors\n",
    "import pickle, json\n",
    "from utils.helpers import *"
   ]
  },
  {
   "cell_type": "code",
   "execution_count": 1,
   "id": "3007955a-7d81-4a33-aac1-eb033ed7fe43",
   "metadata": {},
   "outputs": [],
   "source": [
    "handlabel_augmented = pd.read_csv('../data/handlabel_augmented.csv').dropna().reset_index(drop=True)"
   ]
  },
  {
   "cell_type": "code",
   "execution_count": 3,
   "id": "1b32788d-630d-4391-91d3-bf2a866f3bc2",
   "metadata": {},
   "outputs": [],
   "source": [
    "labels = ['communication', 'waiting time',\n",
    "       'information', 'user interface',\n",
    "       'facilities', 'location', 'price']"
   ]
  },
  {
   "cell_type": "markdown",
   "id": "9492d20e-1e8a-458a-bf7a-4a00a5f2af2a",
   "metadata": {},
   "source": [
    "# Load Word2Vec"
   ]
  },
  {
   "cell_type": "code",
   "execution_count": 4,
   "id": "47c2adc9-28ba-488a-a22c-4a5023f865dc",
   "metadata": {},
   "outputs": [],
   "source": [
    "w2v = KeyedVectors.load('../models/word2vec')"
   ]
  },
  {
   "cell_type": "code",
   "execution_count": 2,
   "id": "ce5410eb-79d2-411d-8541-553dfca19889",
   "metadata": {},
   "outputs": [],
   "source": [
    "# Vectorize text with Word2Vec\n",
    "handlabel_vectorized = preprocess_w2v(handlabel_augmented, w2v)"
   ]
  },
  {
   "cell_type": "code",
   "execution_count": 6,
   "id": "54ebca0c-1eac-42b7-a25c-c200c4f56b2e",
   "metadata": {},
   "outputs": [],
   "source": [
    "X = handlabel_vectorized[range(300)]\n",
    "y = handlabel_vectorized[labels]"
   ]
  },
  {
   "cell_type": "markdown",
   "id": "fde78481-bdac-4ebc-95fd-1e23cc0e3b83",
   "metadata": {},
   "source": [
    "# Use original text as test set, synthetic text as training set"
   ]
  },
  {
   "cell_type": "code",
   "execution_count": 7,
   "id": "df946dc3-d3e8-4dbc-86a5-149babe83d8b",
   "metadata": {},
   "outputs": [],
   "source": [
    "X_train = X.loc[227:]\n",
    "y_train = y.loc[227:]\n",
    "X_test = X.loc[:226]\n",
    "y_test = y.loc[:226]"
   ]
  },
  {
   "cell_type": "code",
   "execution_count": 8,
   "id": "e9c7da3b-1403-4ca4-8ef6-4b80854dc0cc",
   "metadata": {},
   "outputs": [
    {
     "data": {
      "text/plain": [
       "Text(0.5, 1.0, 'y_test')"
      ]
     },
     "execution_count": 8,
     "metadata": {},
     "output_type": "execute_result"
    },
    {
     "data": {
      "image/png": "[encoded data removed]",
      "text/plain": [
       "<Figure size 864x288 with 2 Axes>"
      ]
     },
     "metadata": {
      "needs_background": "light"
     },
     "output_type": "display_data"
    }
   ],
   "source": [
    "fig, ax = plt.subplots(ncols=2, figsize=(12,4), constrained_layout=True)\n",
    "\n",
    "y_train[labels].sum().sort_values().plot(kind='barh', ax=ax[0])\n",
    "ax[0].set_title('y_train')\n",
    "\n",
    "y_test[labels].sum().sort_values().plot(kind='barh', ax=ax[1])\n",
    "ax[1].set_title('y_test')"
   ]
  },
  {
   "cell_type": "code",
   "execution_count": 9,
   "id": "10c93a17-39e6-4282-9e02-a0f19d28847b",
   "metadata": {},
   "outputs": [
    {
     "data": {
      "text/plain": [
       "(227, 7)"
      ]
     },
     "execution_count": 9,
     "metadata": {},
     "output_type": "execute_result"
    }
   ],
   "source": [
    "y_test.shape"
   ]
  },
  {
   "cell_type": "code",
   "execution_count": 10,
   "id": "6d31b52a-6a95-4e1c-92cf-7c82cced83cb",
   "metadata": {},
   "outputs": [
    {
     "data": {
      "text/plain": [
       "(2860, 7)"
      ]
     },
     "execution_count": 10,
     "metadata": {},
     "output_type": "execute_result"
    }
   ],
   "source": [
    "y_train.shape"
   ]
  },
  {
   "cell_type": "code",
   "execution_count": 11,
   "id": "1fdb0a73-2179-4510-9cc6-8c420220b027",
   "metadata": {},
   "outputs": [],
   "source": [
    "ovr_svc = OneVsRestClassifier(SVC(probability=True, class_weight='balanced'))\n",
    "ovr_rfc = OneVsRestClassifier(RandomForestClassifier(max_depth=5, class_weight='balanced_subsample'))\n",
    "ovr_mlp = OneVsRestClassifier(MLPClassifier(early_stopping=True, hidden_layer_sizes=(64,32,8)))"
   ]
  },
  {
   "cell_type": "code",
   "execution_count": 12,
   "id": "83fd0dc5-2440-4974-bd37-8efa6150bbee",
   "metadata": {},
   "outputs": [
    {
     "name": "stdout",
     "output_type": "stream",
     "text": [
      "------------TRAINING DATASET RESULTS (OneVsRestClassifier(estimator=SVC(class_weight='balanced', probability=True)))------------\n",
      "\n",
      "\n",
      "                precision    recall  f1-score   support\n",
      "\n",
      " communication       0.94      0.98      0.96       861\n",
      "  waiting time       0.93      0.96      0.94      1016\n",
      "   information       0.90      0.98      0.94       863\n",
      "user interface       0.82      1.00      0.90       336\n",
      "    facilities       0.96      1.00      0.98       387\n",
      "      location       0.92      0.99      0.96       308\n",
      "         price       0.95      0.99      0.97       535\n",
      "\n",
      "     micro avg       0.92      0.98      0.95      4306\n",
      "     macro avg       0.92      0.99      0.95      4306\n",
      "  weighted avg       0.92      0.98      0.95      4306\n",
      "   samples avg       0.93      0.98      0.95      4306\n",
      "\n",
      "------------TEST DATASET RESULTS (OneVsRestClassifier(estimator=SVC(class_weight='balanced', probability=True)))------------\n",
      "\n",
      "\n",
      "                precision    recall  f1-score   support\n",
      "\n",
      " communication       0.78      1.00      0.88        57\n",
      "  waiting time       0.85      1.00      0.92        70\n",
      "   information       0.76      0.98      0.85        54\n",
      "user interface       0.75      1.00      0.86        24\n",
      "    facilities       0.86      1.00      0.92        18\n",
      "      location       0.79      1.00      0.88        11\n",
      "         price       0.75      1.00      0.86        21\n",
      "\n",
      "     micro avg       0.79      1.00      0.88       255\n",
      "     macro avg       0.79      1.00      0.88       255\n",
      "  weighted avg       0.80      1.00      0.88       255\n",
      "   samples avg       0.79      0.86      0.81       255\n",
      "\n"
     ]
    }
   ],
   "source": [
    "get_scores(ovr_svc, X_train, y_train, X_test, y_test)"
   ]
  },
  {
   "cell_type": "code",
   "execution_count": 13,
   "id": "df20d8bf-2083-48ae-87e3-c0dd67992dc8",
   "metadata": {},
   "outputs": [
    {
     "name": "stdout",
     "output_type": "stream",
     "text": [
      "------------TRAINING DATASET RESULTS (OneVsRestClassifier(estimator=RandomForestClassifier(class_weight='balanced_subsample',\n",
      "                                                     max_depth=5)))------------\n",
      "\n",
      "\n",
      "                precision    recall  f1-score   support\n",
      "\n",
      " communication       0.92      0.93      0.92       861\n",
      "  waiting time       0.94      0.91      0.92      1016\n",
      "   information       0.84      0.95      0.89       863\n",
      "user interface       0.70      0.99      0.82       336\n",
      "    facilities       0.91      0.97      0.94       387\n",
      "      location       0.81      0.98      0.89       308\n",
      "         price       0.88      0.97      0.93       535\n",
      "\n",
      "     micro avg       0.87      0.95      0.91      4306\n",
      "     macro avg       0.86      0.96      0.90      4306\n",
      "  weighted avg       0.88      0.95      0.91      4306\n",
      "   samples avg       0.87      0.94      0.89      4306\n",
      "\n",
      "------------TEST DATASET RESULTS (OneVsRestClassifier(estimator=RandomForestClassifier(class_weight='balanced_subsample',\n",
      "                                                     max_depth=5)))------------\n",
      "\n",
      "\n",
      "                precision    recall  f1-score   support\n",
      "\n",
      " communication       0.72      0.96      0.83        57\n",
      "  waiting time       0.76      0.94      0.84        70\n",
      "   information       0.68      0.96      0.80        54\n",
      "user interface       0.59      0.79      0.68        24\n",
      "    facilities       0.90      1.00      0.95        18\n",
      "      location       0.79      1.00      0.88        11\n",
      "         price       0.75      1.00      0.86        21\n",
      "\n",
      "     micro avg       0.73      0.95      0.82       255\n",
      "     macro avg       0.74      0.95      0.83       255\n",
      "  weighted avg       0.73      0.95      0.82       255\n",
      "   samples avg       0.72      0.82      0.75       255\n",
      "\n"
     ]
    }
   ],
   "source": [
    "get_scores(ovr_rfc, X_train, y_train, X_test, y_test)"
   ]
  },
  {
   "cell_type": "code",
   "execution_count": 14,
   "id": "111fdb63-28db-4fcf-8432-f67d2daba8df",
   "metadata": {},
   "outputs": [
    {
     "name": "stdout",
     "output_type": "stream",
     "text": [
      "------------TRAINING DATASET RESULTS (OneVsRestClassifier(estimator=MLPClassifier(early_stopping=True,\n",
      "                                            hidden_layer_sizes=(64, 32, 8))))------------\n",
      "\n",
      "\n",
      "                precision    recall  f1-score   support\n",
      "\n",
      " communication       1.00      0.99      0.99       861\n",
      "  waiting time       0.95      0.93      0.94      1016\n",
      "   information       0.98      0.97      0.97       863\n",
      "user interface       0.99      0.98      0.99       336\n",
      "    facilities       0.94      0.92      0.93       387\n",
      "      location       0.00      0.00      0.00       308\n",
      "         price       0.97      0.97      0.97       535\n",
      "\n",
      "     micro avg       0.97      0.89      0.93      4306\n",
      "     macro avg       0.83      0.82      0.83      4306\n",
      "  weighted avg       0.90      0.89      0.90      4306\n",
      "   samples avg       0.92      0.89      0.90      4306\n",
      "\n",
      "------------TEST DATASET RESULTS (OneVsRestClassifier(estimator=MLPClassifier(early_stopping=True,\n",
      "                                            hidden_layer_sizes=(64, 32, 8))))------------\n",
      "\n",
      "\n",
      "                precision    recall  f1-score   support\n",
      "\n",
      " communication       0.88      0.98      0.93        57\n",
      "  waiting time       0.90      1.00      0.95        70\n",
      "   information       0.89      0.94      0.92        54\n",
      "user interface       0.89      1.00      0.94        24\n",
      "    facilities       0.75      1.00      0.86        18\n",
      "      location       0.00      0.00      0.00        11\n",
      "         price       0.75      1.00      0.86        21\n",
      "\n",
      "     micro avg       0.86      0.94      0.90       255\n",
      "     macro avg       0.72      0.85      0.78       255\n",
      "  weighted avg       0.83      0.94      0.88       255\n",
      "   samples avg       0.81      0.81      0.81       255\n",
      "\n"
     ]
    }
   ],
   "source": [
    "get_scores(ovr_mlp, X_train, y_train, X_test, y_test)"
   ]
  },
  {
   "cell_type": "markdown",
   "id": "003c8503-fb87-4d7d-b1ba-5f6c13309d45",
   "metadata": {},
   "source": [
    "# Save model"
   ]
  },
  {
   "cell_type": "code",
   "execution_count": 15,
   "id": "1342f97e-0730-48ea-a605-cbdc2ce6a0e6",
   "metadata": {},
   "outputs": [],
   "source": [
    "pickle.dump(ovr_svc, open('../models/w2v_ovr_svc.sav', 'wb'))"
   ]
  }
 ],
 "metadata": {
  "kernelspec": {
   "display_name": "Python 3",
   "language": "python",
   "name": "python3"
  },
  "language_info": {
   "codemirror_mode": {
    "name": "ipython",
    "version": 3
   },
   "file_extension": ".py",
   "mimetype": "text/x-python",
   "name": "python",
   "nbconvert_exporter": "python",
   "pygments_lexer": "ipython3",
   "version": "3.8.8"
  }
 },
 "nbformat": 4,
 "nbformat_minor": 5
}
