{
 "cells": [
  {
   "cell_type": "code",
   "execution_count": 4,
   "id": "eefca807-4f41-4ab7-aec5-8b82102af590",
   "metadata": {},
   "outputs": [],
   "source": [
    "import pandas as pd, numpy as np, seaborn as sns, matplotlib.pyplot as plt\n",
    "import nlpaug.augmenter.word as naw\n",
    "import nlpaug\n",
    "import nlpaug.augmenter.sentence as nas\n",
    "import nlpaug.flow as naf\n",
    "from gensim.models.keyedvectors import KeyedVectors\n",
    "from nlpaug.util.file.download import DownloadUtil\n",
    "from datetime import datetime\n",
    "from utils.helpers import *\n",
    "import json"
   ]
  },
  {
   "cell_type": "code",
   "execution_count": 5,
   "id": "83a177cd-256e-49f2-b033-f9354936b9ad",
   "metadata": {},
   "outputs": [],
   "source": [
    "# import gzip\n",
    "# import shutil\n",
    "# with gzip.open('models/GoogleNews-vectors-negative300.bin.gz', 'rb') as f_in:\n",
    "#     with open('models/GoogleNews-vectors-negative300.bin', 'wb') as f_out:\n",
    "#         shutil.copyfileobj(f_in, f_out)"
   ]
  },
  {
   "cell_type": "code",
   "execution_count": 6,
   "id": "b3f28cbf-ede0-49be-9966-0c9590c1e99e",
   "metadata": {},
   "outputs": [],
   "source": [
    "# DownloadUtil.download_glove(model_name='glove.6B', dest_dir='models/.')"
   ]
  },
  {
   "cell_type": "markdown",
   "id": "4d0af295-83ca-43cd-b6aa-d931bd948e0e",
   "metadata": {},
   "source": [
    "# Testing"
   ]
  },
  {
   "cell_type": "code",
   "execution_count": 7,
   "id": "178948db-1d07-4a88-81e2-70f300cc18f2",
   "metadata": {},
   "outputs": [],
   "source": [
    "text = 'The language used by partners is very friendly and polite and easy to understand, the connection is also smooth'"
   ]
  },
  {
   "cell_type": "code",
   "execution_count": 8,
   "id": "994c327e-5527-48f5-96e4-4a74bfac52bb",
   "metadata": {},
   "outputs": [
    {
     "name": "stdout",
     "output_type": "stream",
     "text": [
      "The language used by the partner is very friendly, polite and easy to understand, and communication is smooth.\n"
     ]
    }
   ],
   "source": [
    "bt_zh = naw.BackTranslationAug(\n",
    "    from_model_name='Helsinki-NLP/opus-mt-en-zh', \n",
    "    to_model_name='Helsinki-NLP/opus-mt-zh-en'\n",
    ")\n",
    "print(bt_zh.augment(text))"
   ]
  },
  {
   "cell_type": "code",
   "execution_count": 9,
   "id": "8fbb3f45-5f1c-492e-925f-8226a3905c4d",
   "metadata": {},
   "outputs": [
    {
     "name": "stdout",
     "output_type": "stream",
     "text": [
      "The language of the partners is very friendly and polite and easy to understand, also the connection is smooth.\n"
     ]
    }
   ],
   "source": [
    "bt_de = naw.BackTranslationAug()\n",
    "print(bt_de.augment(text))"
   ]
  },
  {
   "cell_type": "code",
   "execution_count": 10,
   "id": "b0367e70-c1e9-418e-b910-565cf24c9e30",
   "metadata": {},
   "outputs": [
    {
     "name": "stdout",
     "output_type": "stream",
     "text": [
      "The language your partner uses is very kind, polite, and easy to understand. The connection is smooth.\n"
     ]
    }
   ],
   "source": [
    "bt_ja = naw.BackTranslationAug(\n",
    "    from_model_name='Helsinki-NLP/opus-tatoeba-en-ja', \n",
    "    to_model_name='Helsinki-NLP/opus-mt-ja-en'\n",
    ")\n",
    "print(bt_ja.augment(text))"
   ]
  },
  {
   "cell_type": "code",
   "execution_count": 11,
   "id": "8a3cd454-5a3d-4441-b6d7-67fd70f368ea",
   "metadata": {},
   "outputs": [
    {
     "data": {
      "text/plain": [
       "['The language used by partners be very friendly in polite and easy people understand, the connection is also smooth',\n",
       " 'The driver used by partners is generally friendly and polite and easy to speak, the connection is also smooth']"
      ]
     },
     "execution_count": 11,
     "metadata": {},
     "output_type": "execute_result"
    }
   ],
   "source": [
    "roberta = naw.ContextualWordEmbsAug(\n",
    "    model_path='roberta-base', action='substitute', aug_max=3)\n",
    "roberta.augment(text,n=2)"
   ]
  },
  {
   "cell_type": "code",
   "execution_count": 12,
   "id": "ada10e4a-f94d-4c24-accd-66f60577996e",
   "metadata": {},
   "outputs": [
    {
     "data": {
      "text/plain": [
       "['The language your partner uses is very straightforward, polite, and difficult to grasp. The connection is smooth.',\n",
       " 'The language used between my partner is very friendly, polite yet easy to understand, and communication is smooth.',\n",
       " 'The language used by the partner is very friendly, polite and easy to understand, and communication is smooth.']"
      ]
     },
     "execution_count": 12,
     "metadata": {},
     "output_type": "execute_result"
    }
   ],
   "source": [
    "aug = naf.Sometimes([bt_zh, bt_de, bt_ja, roberta], aug_p=0.5)\n",
    "\n",
    "aug.augment(text, n=3)"
   ]
  },
  {
   "cell_type": "markdown",
   "id": "6ba0ee52-591b-486d-8e53-7bb99b8734c5",
   "metadata": {},
   "source": [
    "# Create Synthetic Data"
   ]
  },
  {
   "cell_type": "code",
   "execution_count": 13,
   "id": "375d55c1-a6bd-4c3c-89f5-baeee7aff7e5",
   "metadata": {},
   "outputs": [
    {
     "data": {
      "text/html": [
       "<div>\n",
       "<style scoped>\n",
       "    .dataframe tbody tr th:only-of-type {\n",
       "        vertical-align: middle;\n",
       "    }\n",
       "\n",
       "    .dataframe tbody tr th {\n",
       "        vertical-align: top;\n",
       "    }\n",
       "\n",
       "    .dataframe thead th {\n",
       "        text-align: right;\n",
       "    }\n",
       "</style>\n",
       "<table border=\"1\" class=\"dataframe\">\n",
       "  <thead>\n",
       "    <tr style=\"text-align: right;\">\n",
       "      <th></th>\n",
       "      <th>sequence</th>\n",
       "      <th>communication</th>\n",
       "      <th>waiting time</th>\n",
       "      <th>information</th>\n",
       "      <th>user interface</th>\n",
       "      <th>facilities</th>\n",
       "      <th>location</th>\n",
       "      <th>price</th>\n",
       "      <th>sentiment</th>\n",
       "    </tr>\n",
       "  </thead>\n",
       "  <tbody>\n",
       "    <tr>\n",
       "      <th>0</th>\n",
       "      <td>satisfied with the answer</td>\n",
       "      <td>0</td>\n",
       "      <td>0</td>\n",
       "      <td>1</td>\n",
       "      <td>0</td>\n",
       "      <td>0</td>\n",
       "      <td>0</td>\n",
       "      <td>0</td>\n",
       "      <td>1</td>\n",
       "    </tr>\n",
       "    <tr>\n",
       "      <th>1</th>\n",
       "      <td>Friendly employee</td>\n",
       "      <td>1</td>\n",
       "      <td>0</td>\n",
       "      <td>0</td>\n",
       "      <td>0</td>\n",
       "      <td>0</td>\n",
       "      <td>0</td>\n",
       "      <td>0</td>\n",
       "      <td>1</td>\n",
       "    </tr>\n",
       "  </tbody>\n",
       "</table>\n",
       "</div>"
      ],
      "text/plain": [
       "                    sequence  communication  waiting time  information  \\\n",
       "0  satisfied with the answer              0             0            1   \n",
       "1          Friendly employee              1             0            0   \n",
       "\n",
       "   user interface  facilities  location  price  sentiment  \n",
       "0               0           0         0      0          1  \n",
       "1               0           0         0      0          1  "
      ]
     },
     "execution_count": 13,
     "metadata": {},
     "output_type": "execute_result"
    }
   ],
   "source": [
    "handlabel_df = pd.read_csv('../data/handlabel.csv').reset_index(drop=True)\n",
    "handlabel_df.head(2)"
   ]
  },
  {
   "cell_type": "code",
   "execution_count": 14,
   "id": "49227a37-c913-441d-8318-64aeaa8036ea",
   "metadata": {
    "tags": []
   },
   "outputs": [
    {
     "data": {
      "text/plain": [
       "<AxesSubplot:>"
      ]
     },
     "execution_count": 14,
     "metadata": {},
     "output_type": "execute_result"
    },
    {
     "data": {
      "image/png": "[encoded data removed]",
      "text/plain": [
       "<Figure size 432x288 with 1 Axes>"
      ]
     },
     "metadata": {
      "needs_background": "light"
     },
     "output_type": "display_data"
    }
   ],
   "source": [
    "handlabel_df[[ 'communication',\n",
    "    'waiting time',\n",
    "     'information',\n",
    "    'user interface',\n",
    "    'price',\n",
    "    'location',\n",
    "    'facilities']].sum().sort_values().plot(kind='barh')"
   ]
  },
  {
   "cell_type": "code",
   "execution_count": 16,
   "id": "ea95ecc5-e2ce-4477-b2e1-924cca98c423",
   "metadata": {},
   "outputs": [
    {
     "name": "stdout",
     "output_type": "stream",
     "text": [
      "08-03-2022 21:46:13\n"
     ]
    }
   ],
   "source": [
    "print(datetime.datetime.now().strftime(\"%d-%m-%Y %H:%M:%S\"))"
   ]
  },
  {
   "cell_type": "code",
   "execution_count": 17,
   "id": "3165d5e7-668a-46e0-a037-5e0de2a64cde",
   "metadata": {
    "scrolled": true,
    "tags": []
   },
   "outputs": [
    {
     "name": "stdout",
     "output_type": "stream",
     "text": [
      "Processing row 1 out of 24 now...\n",
      "Processing row 2 out of 24 now...\n",
      "Processing row 3 out of 24 now...\n",
      "Processing row 4 out of 24 now...\n",
      "Processing row 5 out of 24 now...\n",
      "Processing row 6 out of 24 now...\n",
      "Processing row 7 out of 24 now...\n",
      "Processing row 8 out of 24 now...\n",
      "Processing row 9 out of 24 now...\n",
      "Processing row 10 out of 24 now...\n",
      "Processing row 11 out of 24 now...\n",
      "Processing row 12 out of 24 now...\n",
      "Processing row 13 out of 24 now...\n",
      "Processing row 14 out of 24 now...\n",
      "Processing row 15 out of 24 now...\n",
      "Processing row 16 out of 24 now...\n",
      "Processing row 17 out of 24 now...\n",
      "Processing row 18 out of 24 now...\n",
      "Processing row 19 out of 24 now...\n",
      "Processing row 20 out of 24 now...\n",
      "Processing row 21 out of 24 now...\n",
      "Processing row 22 out of 24 now...\n",
      "Processing row 23 out of 24 now...\n",
      "Processing row 24 out of 24 now...\n",
      "Rows added: 240\n",
      "Shape of resulting dataframe: (240, 9)\n"
     ]
    }
   ],
   "source": [
    "user_interface = augment_data(handlabel_df, aug, 'user interface', 10)"
   ]
  },
  {
   "cell_type": "code",
   "execution_count": 18,
   "id": "34b1984f-45c2-4b60-8377-847745f7fba5",
   "metadata": {},
   "outputs": [
    {
     "name": "stdout",
     "output_type": "stream",
     "text": [
      "08-03-2022 22:38:05\n"
     ]
    }
   ],
   "source": [
    "print(datetime.datetime.now().strftime(\"%d-%m-%Y %H:%M:%S\"))"
   ]
  },
  {
   "cell_type": "code",
   "execution_count": 19,
   "id": "18a96bf5-afd4-4afc-8c6f-643a2871bb55",
   "metadata": {
    "scrolled": true,
    "tags": []
   },
   "outputs": [
    {
     "name": "stdout",
     "output_type": "stream",
     "text": [
      "Processing row 1 out of 18 now...\n",
      "Processing row 2 out of 18 now...\n",
      "Processing row 3 out of 18 now...\n",
      "Processing row 4 out of 18 now...\n",
      "Processing row 5 out of 18 now...\n",
      "Processing row 6 out of 18 now...\n",
      "Processing row 7 out of 18 now...\n",
      "Processing row 8 out of 18 now...\n",
      "Processing row 9 out of 18 now...\n",
      "Processing row 10 out of 18 now...\n",
      "Processing row 11 out of 18 now...\n",
      "Processing row 12 out of 18 now...\n",
      "Processing row 13 out of 18 now...\n",
      "Processing row 14 out of 18 now...\n",
      "Processing row 15 out of 18 now...\n",
      "Processing row 16 out of 18 now...\n",
      "Processing row 17 out of 18 now...\n",
      "Processing row 18 out of 18 now...\n",
      "Rows added: 360\n",
      "Shape of resulting dataframe: (360, 9)\n"
     ]
    }
   ],
   "source": [
    "facilities = augment_data(handlabel_df, aug, 'facilities', 20)"
   ]
  },
  {
   "cell_type": "code",
   "execution_count": 20,
   "id": "23b782a6-02ff-4e89-a1e2-568d71d931bc",
   "metadata": {},
   "outputs": [
    {
     "name": "stdout",
     "output_type": "stream",
     "text": [
      "08-03-2022 23:59:06\n"
     ]
    }
   ],
   "source": [
    "print(datetime.datetime.now().strftime(\"%d-%m-%Y %H:%M:%S\"))"
   ]
  },
  {
   "cell_type": "code",
   "execution_count": 21,
   "id": "4c367826-d025-42ae-a14a-363b8f39cfdf",
   "metadata": {
    "scrolled": true,
    "tags": []
   },
   "outputs": [
    {
     "name": "stdout",
     "output_type": "stream",
     "text": [
      "Processing row 1 out of 21 now...\n",
      "Processing row 2 out of 21 now...\n",
      "Processing row 3 out of 21 now...\n",
      "Processing row 4 out of 21 now...\n",
      "Processing row 5 out of 21 now...\n",
      "Processing row 6 out of 21 now...\n",
      "Processing row 7 out of 21 now...\n",
      "Processing row 8 out of 21 now...\n",
      "Processing row 9 out of 21 now...\n",
      "Processing row 10 out of 21 now...\n",
      "Processing row 11 out of 21 now...\n",
      "Processing row 12 out of 21 now...\n",
      "Processing row 13 out of 21 now...\n",
      "Processing row 14 out of 21 now...\n",
      "Processing row 15 out of 21 now...\n",
      "Processing row 16 out of 21 now...\n",
      "Processing row 17 out of 21 now...\n",
      "Processing row 18 out of 21 now...\n",
      "Processing row 19 out of 21 now...\n",
      "Processing row 20 out of 21 now...\n",
      "Processing row 21 out of 21 now...\n",
      "Rows added: 420\n",
      "Shape of resulting dataframe: (420, 9)\n"
     ]
    }
   ],
   "source": [
    "price = augment_data(handlabel_df, aug, 'price', 20)"
   ]
  },
  {
   "cell_type": "code",
   "execution_count": 22,
   "id": "6183ebc1-72f4-45ff-8802-26807ccab477",
   "metadata": {},
   "outputs": [
    {
     "name": "stdout",
     "output_type": "stream",
     "text": [
      "09-03-2022 01:39:17\n"
     ]
    }
   ],
   "source": [
    "print(datetime.datetime.now().strftime(\"%d-%m-%Y %H:%M:%S\"))"
   ]
  },
  {
   "cell_type": "code",
   "execution_count": 23,
   "id": "1daf2adc-ff4e-44c3-8737-918364c4faea",
   "metadata": {},
   "outputs": [
    {
     "name": "stdout",
     "output_type": "stream",
     "text": [
      "Processing row 1 out of 11 now...\n",
      "Processing row 2 out of 11 now...\n",
      "Processing row 3 out of 11 now...\n",
      "Processing row 4 out of 11 now...\n",
      "Processing row 5 out of 11 now...\n",
      "Processing row 6 out of 11 now...\n",
      "Processing row 7 out of 11 now...\n",
      "Processing row 8 out of 11 now...\n",
      "Processing row 9 out of 11 now...\n",
      "Processing row 10 out of 11 now...\n",
      "Processing row 11 out of 11 now...\n",
      "Rows added: 220\n",
      "Shape of resulting dataframe: (220, 9)\n"
     ]
    }
   ],
   "source": [
    "location = augment_data(handlabel_df, aug, 'location', 20)"
   ]
  },
  {
   "cell_type": "code",
   "execution_count": 24,
   "id": "8e8b8f1e-668a-4d9a-837d-d5bba1b9883d",
   "metadata": {},
   "outputs": [
    {
     "name": "stdout",
     "output_type": "stream",
     "text": [
      "09-03-2022 02:35:37\n"
     ]
    }
   ],
   "source": [
    "print(datetime.datetime.now().strftime(\"%d-%m-%Y %H:%M:%S\"))"
   ]
  },
  {
   "cell_type": "code",
   "execution_count": 25,
   "id": "174d3a2d-b34b-44a5-8c92-6e96b3c082d5",
   "metadata": {
    "scrolled": true,
    "tags": []
   },
   "outputs": [
    {
     "name": "stdout",
     "output_type": "stream",
     "text": [
      "Processing row 1 out of 54 now...\n",
      "Processing row 2 out of 54 now...\n",
      "Processing row 3 out of 54 now...\n",
      "Processing row 4 out of 54 now...\n",
      "Processing row 5 out of 54 now...\n",
      "Processing row 6 out of 54 now...\n",
      "Processing row 7 out of 54 now...\n",
      "Processing row 8 out of 54 now...\n",
      "Processing row 9 out of 54 now...\n",
      "Processing row 10 out of 54 now...\n",
      "Processing row 11 out of 54 now...\n",
      "Processing row 12 out of 54 now...\n",
      "Processing row 13 out of 54 now...\n",
      "Processing row 14 out of 54 now...\n",
      "Processing row 15 out of 54 now...\n",
      "Processing row 16 out of 54 now...\n",
      "Processing row 17 out of 54 now...\n",
      "Processing row 18 out of 54 now...\n",
      "Processing row 19 out of 54 now...\n",
      "Processing row 20 out of 54 now...\n",
      "Processing row 21 out of 54 now...\n",
      "Processing row 22 out of 54 now...\n",
      "Processing row 23 out of 54 now...\n",
      "Processing row 24 out of 54 now...\n",
      "Processing row 25 out of 54 now...\n",
      "Processing row 26 out of 54 now...\n",
      "Processing row 27 out of 54 now...\n",
      "Processing row 28 out of 54 now...\n",
      "Processing row 29 out of 54 now...\n",
      "Processing row 30 out of 54 now...\n",
      "Processing row 31 out of 54 now...\n",
      "Processing row 32 out of 54 now...\n",
      "Processing row 33 out of 54 now...\n",
      "Processing row 34 out of 54 now...\n",
      "Processing row 35 out of 54 now...\n",
      "Processing row 36 out of 54 now...\n",
      "Processing row 37 out of 54 now...\n",
      "Processing row 38 out of 54 now...\n",
      "Processing row 39 out of 54 now...\n",
      "Processing row 40 out of 54 now...\n",
      "Processing row 41 out of 54 now...\n",
      "Processing row 42 out of 54 now...\n",
      "Processing row 43 out of 54 now...\n",
      "Processing row 44 out of 54 now...\n",
      "Processing row 45 out of 54 now...\n",
      "Processing row 46 out of 54 now...\n",
      "Processing row 47 out of 54 now...\n",
      "Processing row 48 out of 54 now...\n",
      "Processing row 49 out of 54 now...\n",
      "Processing row 50 out of 54 now...\n",
      "Processing row 51 out of 54 now...\n",
      "Processing row 52 out of 54 now...\n",
      "Processing row 53 out of 54 now...\n",
      "Processing row 54 out of 54 now...\n",
      "Rows added: 540\n",
      "Shape of resulting dataframe: (540, 9)\n"
     ]
    }
   ],
   "source": [
    "information = augment_data(handlabel_df, aug, 'information', 10)"
   ]
  },
  {
   "cell_type": "code",
   "execution_count": 26,
   "id": "966fac8f-b73b-4bf3-94bc-4e603a8b58cc",
   "metadata": {},
   "outputs": [
    {
     "name": "stdout",
     "output_type": "stream",
     "text": [
      "09-03-2022 04:39:00\n"
     ]
    }
   ],
   "source": [
    "print(datetime.datetime.now().strftime(\"%d-%m-%Y %H:%M:%S\"))"
   ]
  },
  {
   "cell_type": "code",
   "execution_count": 27,
   "id": "133b26dc-f3bb-4367-8605-12f8159b0524",
   "metadata": {
    "scrolled": true,
    "tags": []
   },
   "outputs": [
    {
     "name": "stdout",
     "output_type": "stream",
     "text": [
      "Processing row 1 out of 57 now...\n",
      "Processing row 2 out of 57 now...\n",
      "Processing row 3 out of 57 now...\n",
      "Processing row 4 out of 57 now...\n",
      "Processing row 5 out of 57 now...\n",
      "Processing row 6 out of 57 now...\n",
      "Processing row 7 out of 57 now...\n",
      "Processing row 8 out of 57 now...\n",
      "Processing row 9 out of 57 now...\n",
      "Processing row 10 out of 57 now...\n",
      "Processing row 11 out of 57 now...\n",
      "Processing row 12 out of 57 now...\n",
      "Processing row 13 out of 57 now...\n",
      "Processing row 14 out of 57 now...\n",
      "Processing row 15 out of 57 now...\n",
      "Processing row 16 out of 57 now...\n",
      "Processing row 17 out of 57 now...\n",
      "Processing row 18 out of 57 now...\n",
      "Processing row 19 out of 57 now...\n",
      "Processing row 20 out of 57 now...\n",
      "Processing row 21 out of 57 now...\n",
      "Processing row 22 out of 57 now...\n",
      "Processing row 23 out of 57 now...\n",
      "Processing row 24 out of 57 now...\n",
      "Processing row 25 out of 57 now...\n",
      "Processing row 26 out of 57 now...\n",
      "Processing row 27 out of 57 now...\n",
      "Processing row 28 out of 57 now...\n",
      "Processing row 29 out of 57 now...\n",
      "Processing row 30 out of 57 now...\n",
      "Processing row 31 out of 57 now...\n",
      "Processing row 32 out of 57 now...\n",
      "Processing row 33 out of 57 now...\n",
      "Processing row 34 out of 57 now...\n",
      "Processing row 35 out of 57 now...\n",
      "Processing row 36 out of 57 now...\n",
      "Processing row 37 out of 57 now...\n",
      "Processing row 38 out of 57 now...\n",
      "Processing row 39 out of 57 now...\n",
      "Processing row 40 out of 57 now...\n",
      "Processing row 41 out of 57 now...\n",
      "Processing row 42 out of 57 now...\n",
      "Processing row 43 out of 57 now...\n",
      "Processing row 44 out of 57 now...\n",
      "Processing row 45 out of 57 now...\n",
      "Processing row 46 out of 57 now...\n",
      "Processing row 47 out of 57 now...\n",
      "Processing row 48 out of 57 now...\n",
      "Processing row 49 out of 57 now...\n",
      "Processing row 50 out of 57 now...\n",
      "Processing row 51 out of 57 now...\n",
      "Processing row 52 out of 57 now...\n",
      "Processing row 53 out of 57 now...\n",
      "Processing row 54 out of 57 now...\n",
      "Processing row 55 out of 57 now...\n",
      "Processing row 56 out of 57 now...\n",
      "Processing row 57 out of 57 now...\n",
      "Rows added: 570\n",
      "Shape of resulting dataframe: (569, 9)\n"
     ]
    }
   ],
   "source": [
    "communication = augment_data(handlabel_df, aug, 'communication', 10)"
   ]
  },
  {
   "cell_type": "code",
   "execution_count": 28,
   "id": "eac91ac8-a7bb-4c56-b8e3-dd59939b85fd",
   "metadata": {},
   "outputs": [
    {
     "name": "stdout",
     "output_type": "stream",
     "text": [
      "09-03-2022 06:34:20\n"
     ]
    }
   ],
   "source": [
    "print(datetime.datetime.now().strftime(\"%d-%m-%Y %H:%M:%S\"))"
   ]
  },
  {
   "cell_type": "code",
   "execution_count": 29,
   "id": "ccc38b25-541f-45d4-b012-0f61655ef3fa",
   "metadata": {
    "scrolled": true,
    "tags": []
   },
   "outputs": [
    {
     "name": "stdout",
     "output_type": "stream",
     "text": [
      "Processing row 1 out of 70 now...\n",
      "Processing row 2 out of 70 now...\n",
      "Processing row 3 out of 70 now...\n",
      "Processing row 4 out of 70 now...\n",
      "Processing row 5 out of 70 now...\n",
      "Processing row 6 out of 70 now...\n",
      "Processing row 7 out of 70 now...\n",
      "Processing row 8 out of 70 now...\n",
      "Processing row 9 out of 70 now...\n",
      "Processing row 10 out of 70 now...\n",
      "Processing row 11 out of 70 now...\n",
      "Processing row 12 out of 70 now...\n",
      "Processing row 13 out of 70 now...\n",
      "Processing row 14 out of 70 now...\n",
      "Processing row 15 out of 70 now...\n",
      "Processing row 16 out of 70 now...\n",
      "Processing row 17 out of 70 now...\n",
      "Processing row 18 out of 70 now...\n",
      "Processing row 19 out of 70 now...\n",
      "Processing row 20 out of 70 now...\n",
      "Processing row 21 out of 70 now...\n",
      "Processing row 22 out of 70 now...\n",
      "Processing row 23 out of 70 now...\n",
      "Processing row 24 out of 70 now...\n",
      "Processing row 25 out of 70 now...\n",
      "Processing row 26 out of 70 now...\n",
      "Processing row 27 out of 70 now...\n",
      "Processing row 28 out of 70 now...\n",
      "Processing row 29 out of 70 now...\n",
      "Processing row 30 out of 70 now...\n",
      "Processing row 31 out of 70 now...\n",
      "Processing row 32 out of 70 now...\n",
      "Processing row 33 out of 70 now...\n",
      "Processing row 34 out of 70 now...\n",
      "Processing row 35 out of 70 now...\n",
      "Processing row 36 out of 70 now...\n",
      "Processing row 37 out of 70 now...\n",
      "Processing row 38 out of 70 now...\n",
      "Processing row 39 out of 70 now...\n",
      "Processing row 40 out of 70 now...\n",
      "Processing row 41 out of 70 now...\n",
      "Processing row 42 out of 70 now...\n",
      "Processing row 43 out of 70 now...\n",
      "Processing row 44 out of 70 now...\n",
      "Processing row 45 out of 70 now...\n",
      "Processing row 46 out of 70 now...\n",
      "Processing row 47 out of 70 now...\n",
      "Processing row 48 out of 70 now...\n",
      "Processing row 49 out of 70 now...\n",
      "Processing row 50 out of 70 now...\n",
      "Processing row 51 out of 70 now...\n",
      "Processing row 52 out of 70 now...\n",
      "Processing row 53 out of 70 now...\n",
      "Processing row 54 out of 70 now...\n",
      "Processing row 55 out of 70 now...\n",
      "Processing row 56 out of 70 now...\n",
      "Processing row 57 out of 70 now...\n",
      "Processing row 58 out of 70 now...\n",
      "Processing row 59 out of 70 now...\n",
      "Processing row 60 out of 70 now...\n",
      "Processing row 61 out of 70 now...\n",
      "Processing row 62 out of 70 now...\n",
      "Processing row 63 out of 70 now...\n",
      "Processing row 64 out of 70 now...\n",
      "Processing row 65 out of 70 now...\n",
      "Processing row 66 out of 70 now...\n",
      "Processing row 67 out of 70 now...\n",
      "Processing row 68 out of 70 now...\n",
      "Processing row 69 out of 70 now...\n",
      "Processing row 70 out of 70 now...\n",
      "Rows added: 700\n",
      "Shape of resulting dataframe: (693, 9)\n"
     ]
    }
   ],
   "source": [
    "waiting_time = augment_data(handlabel_df, aug, 'waiting time', 10)"
   ]
  },
  {
   "cell_type": "code",
   "execution_count": 30,
   "id": "e5e1c6db-6025-433d-93d0-4b6fda6dd13f",
   "metadata": {},
   "outputs": [
    {
     "name": "stdout",
     "output_type": "stream",
     "text": [
      "09-03-2022 09:09:34\n"
     ]
    }
   ],
   "source": [
    "print(datetime.datetime.now().strftime(\"%d-%m-%Y %H:%M:%S\"))"
   ]
  },
  {
   "cell_type": "markdown",
   "id": "28dd838c-e9b5-48ea-b217-87acf6f236b3",
   "metadata": {},
   "source": [
    "# Amalgamating Synthetic and Real Data"
   ]
  },
  {
   "cell_type": "code",
   "execution_count": 31,
   "id": "66e40edd-f360-4a86-9c18-714c4fe4c682",
   "metadata": {},
   "outputs": [],
   "source": [
    "handlabel_augmented = pd.concat([handlabel_df, user_interface, facilities, price, location, information, communication, waiting_time]).drop_duplicates(subset=['sequence'])"
   ]
  },
  {
   "cell_type": "code",
   "execution_count": 32,
   "id": "ce745df1-2527-47a3-8002-6a630ca1fc44",
   "metadata": {},
   "outputs": [
    {
     "data": {
      "text/plain": [
       "<AxesSubplot:>"
      ]
     },
     "execution_count": 32,
     "metadata": {},
     "output_type": "execute_result"
    },
    {
     "data": {
      "image/png": "[encoded data removed]",
      "text/plain": [
       "<Figure size 432x288 with 1 Axes>"
      ]
     },
     "metadata": {
      "needs_background": "light"
     },
     "output_type": "display_data"
    }
   ],
   "source": [
    "handlabel_augmented[['communication',\n",
    "    'waiting time',\n",
    "    'information',\n",
    "    'user interface',\n",
    "    'price',\n",
    "    'location',\n",
    "    'facilities']].sum().sort_values().plot(kind='barh')"
   ]
  },
  {
   "cell_type": "code",
   "execution_count": 33,
   "id": "57c093b8-cc91-4471-b632-f642d4efb55d",
   "metadata": {},
   "outputs": [],
   "source": [
    "handlabel_augmented.to_csv('../data/handlabel_augmented.csv', index=False)"
   ]
  },
  {
   "cell_type": "code",
   "execution_count": null,
   "id": "e49a2de2-a316-453e-a72d-99e1d6d76f2c",
   "metadata": {},
   "outputs": [],
   "source": []
  }
 ],
 "metadata": {
  "kernelspec": {
   "display_name": "Python 3",
   "language": "python",
   "name": "python3"
  },
  "language_info": {
   "codemirror_mode": {
    "name": "ipython",
    "version": 3
   },
   "file_extension": ".py",
   "mimetype": "text/x-python",
   "name": "python",
   "nbconvert_exporter": "python",
   "pygments_lexer": "ipython3",
   "version": "3.8.8"
  }
 },
 "nbformat": 4,
 "nbformat_minor": 5
}
