{
 "cells": [
  {
   "cell_type": "code",
   "execution_count": 1,
   "id": "b6b1f135-ea5a-460b-9c73-b10903ff4262",
   "metadata": {},
   "outputs": [],
   "source": [
    "import pandas as pd, numpy as np, seaborn as sns, matplotlib.pyplot as plt\n",
    "from transformers import DistilBertModel, RobertaModel\n",
    "from flair.embeddings import TransformerDocumentEmbeddings\n",
    "from datetime import datetime\n",
    "from sklearn.svm import SVC\n",
    "from sklearn.ensemble import RandomForestClassifier, AdaBoostClassifier\n",
    "from sklearn.model_selection import train_test_split, GridSearchCV, StratifiedKFold\n",
    "from sklearn.neural_network import MLPClassifier\n",
    "from sklearn.linear_model import LogisticRegression\n",
    "from sklearn.metrics import ConfusionMatrixDisplay, confusion_matrix\n",
    "from sklearn.multiclass import OneVsRestClassifier\n",
    "from sklearn.metrics import classification_report, confusion_matrix, cohen_kappa_score, f1_score, precision_score, recall_score\n",
    "from sklearn.utils import shuffle\n",
    "from transformers import pipeline\n",
    "from gensim.models.keyedvectors import KeyedVectors\n",
    "import os\n",
    "import re\n",
    "import json\n",
    "from utils.helpers import *\n",
    "pd.set_option(\"display.max_columns\", None)\n",
    "#pd.set_option('display.max_rows', 500)\n",
    "pd.options.plotting.backend='matplotlib'\n",
    "pd.options.mode.chained_assignment = None  # default='warn'"
   ]
  },
  {
   "cell_type": "markdown",
   "id": "170ef154-130f-4098-8329-2ec8a831975d",
   "metadata": {},
   "source": [
    "# Import handlabelled data"
   ]
  },
  {
   "cell_type": "code",
   "execution_count": 2,
   "id": "e736e1a1-9e36-424b-a303-c40a5f60f7d2",
   "metadata": {},
   "outputs": [
    {
     "data": {
      "text/html": [
       "<div>\n",
       "<style scoped>\n",
       "    .dataframe tbody tr th:only-of-type {\n",
       "        vertical-align: middle;\n",
       "    }\n",
       "\n",
       "    .dataframe tbody tr th {\n",
       "        vertical-align: top;\n",
       "    }\n",
       "\n",
       "    .dataframe thead th {\n",
       "        text-align: right;\n",
       "    }\n",
       "</style>\n",
       "<table border=\"1\" class=\"dataframe\">\n",
       "  <thead>\n",
       "    <tr style=\"text-align: right;\">\n",
       "      <th></th>\n",
       "      <th>sequence</th>\n",
       "      <th>communication</th>\n",
       "      <th>waiting time</th>\n",
       "      <th>information</th>\n",
       "      <th>user interface</th>\n",
       "      <th>facilities</th>\n",
       "      <th>location</th>\n",
       "      <th>price</th>\n",
       "      <th>sentiment</th>\n",
       "    </tr>\n",
       "  </thead>\n",
       "  <tbody>\n",
       "    <tr>\n",
       "      <th>0</th>\n",
       "      <td>satisfied with the answer</td>\n",
       "      <td>0</td>\n",
       "      <td>0</td>\n",
       "      <td>1</td>\n",
       "      <td>0</td>\n",
       "      <td>0</td>\n",
       "      <td>0</td>\n",
       "      <td>0</td>\n",
       "      <td>1</td>\n",
       "    </tr>\n",
       "    <tr>\n",
       "      <th>1</th>\n",
       "      <td>Friendly employee</td>\n",
       "      <td>1</td>\n",
       "      <td>0</td>\n",
       "      <td>0</td>\n",
       "      <td>0</td>\n",
       "      <td>0</td>\n",
       "      <td>0</td>\n",
       "      <td>0</td>\n",
       "      <td>1</td>\n",
       "    </tr>\n",
       "  </tbody>\n",
       "</table>\n",
       "</div>"
      ],
      "text/plain": [
       "                    sequence  communication  waiting time  information  \\\n",
       "0  satisfied with the answer              0             0            1   \n",
       "1          Friendly employee              1             0            0   \n",
       "\n",
       "   user interface  facilities  location  price  sentiment  \n",
       "0               0           0         0      0          1  \n",
       "1               0           0         0      0          1  "
      ]
     },
     "execution_count": 2,
     "metadata": {},
     "output_type": "execute_result"
    }
   ],
   "source": [
    "handlabel_df = pd.read_csv('../data/handlabel.csv')\n",
    "handlabel_df.head(2)"
   ]
  },
  {
   "cell_type": "code",
   "execution_count": 3,
   "id": "d6b93ede-74e1-49c6-b5ff-2f97ece39ab5",
   "metadata": {},
   "outputs": [
    {
     "data": {
      "text/plain": [
       " 1    127\n",
       "-1     83\n",
       " 0     17\n",
       "Name: sentiment, dtype: int64"
      ]
     },
     "execution_count": 3,
     "metadata": {},
     "output_type": "execute_result"
    }
   ],
   "source": [
    "handlabel_df.sentiment.value_counts()"
   ]
  },
  {
   "cell_type": "code",
   "execution_count": 4,
   "id": "78ad960b-ff2e-4a78-a5ff-867ccec3488d",
   "metadata": {},
   "outputs": [],
   "source": [
    "handlabel_df['sentiment'] = handlabel_df['sentiment'].apply(lambda x: 1 if x in [0,1] else 0)"
   ]
  },
  {
   "cell_type": "code",
   "execution_count": 5,
   "id": "06c1c3b3-1513-4880-b2a6-0bce47ba583f",
   "metadata": {},
   "outputs": [
    {
     "data": {
      "text/plain": [
       "1    144\n",
       "0     83\n",
       "Name: sentiment, dtype: int64"
      ]
     },
     "execution_count": 5,
     "metadata": {},
     "output_type": "execute_result"
    }
   ],
   "source": [
    "handlabel_df['sentiment'].value_counts()"
   ]
  },
  {
   "cell_type": "markdown",
   "id": "611378a6-7d95-411c-90ba-a7e6063292b9",
   "metadata": {},
   "source": [
    "# Load transformers"
   ]
  },
  {
   "cell_type": "code",
   "execution_count": 3,
   "id": "3ce84d1f-93a2-459f-89bf-57a251af3cc7",
   "metadata": {
    "scrolled": true,
    "tags": []
   },
   "outputs": [],
   "source": [
    "facebook = pipeline(\"zero-shot-classification\",\n",
    "                      model=\"facebook/bart-large-mnli\", device=0, framework='pt'\n",
    "                     )"
   ]
  },
  {
   "cell_type": "code",
   "execution_count": 8,
   "id": "e8e79f96-4abe-46c8-9731-a5a92cd7919c",
   "metadata": {},
   "outputs": [],
   "source": [
    "sst = pipeline(\n",
    "    model=\"distilbert-base-uncased-finetuned-sst-2-english\",\n",
    "    task=\"sentiment-analysis\",\n",
    "    return_all_scores=True\n",
    ")"
   ]
  },
  {
   "cell_type": "code",
   "execution_count": 9,
   "id": "c06d905f-dbee-4523-ad9d-4af8082939ec",
   "metadata": {},
   "outputs": [],
   "source": [
    "twitter = pipeline(\n",
    "    model=\"cardiffnlp/twitter-roberta-base-sentiment\",\n",
    "    task=\"sentiment-analysis\",\n",
    "    return_all_scores=True,\n",
    ")"
   ]
  },
  {
   "cell_type": "code",
   "execution_count": 10,
   "id": "10aaa551-673a-4c34-adab-eab4b1b0a493",
   "metadata": {
    "tags": []
   },
   "outputs": [],
   "source": [
    "text='The price is $50'"
   ]
  },
  {
   "cell_type": "code",
   "execution_count": 11,
   "id": "7e7a2e45-010b-462d-8223-8f5dd1586376",
   "metadata": {},
   "outputs": [
    {
     "data": {
      "text/plain": [
       "{'sequence': 'The price is $50',\n",
       " 'labels': ['positive', 'negative'],\n",
       " 'scores': [0.5607846975326538, 0.4392153024673462]}"
      ]
     },
     "execution_count": 11,
     "metadata": {},
     "output_type": "execute_result"
    }
   ],
   "source": [
    "labels = ['positive', 'negative']\n",
    "facebook(text, labels, multi_label=False) #, hypothesis_template = 'The sentiment of this text is {}')"
   ]
  },
  {
   "cell_type": "code",
   "execution_count": 12,
   "id": "5f09f10e-fbf8-48b5-85e6-6e2d22dfd281",
   "metadata": {},
   "outputs": [
    {
     "data": {
      "text/plain": [
       "[[{'label': 'NEGATIVE', 'score': 0.1237640306353569},\n",
       "  {'label': 'POSITIVE', 'score': 0.8762359619140625}]]"
      ]
     },
     "execution_count": 12,
     "metadata": {},
     "output_type": "execute_result"
    }
   ],
   "source": [
    "sst(text)"
   ]
  },
  {
   "cell_type": "code",
   "execution_count": 13,
   "id": "6bd7b309-6d53-4632-8370-053f2e55e2b1",
   "metadata": {
    "tags": []
   },
   "outputs": [
    {
     "data": {
      "text/plain": [
       "[[{'label': 'LABEL_0', 'score': 0.09768445789813995},\n",
       "  {'label': 'LABEL_1', 'score': 0.8349465131759644},\n",
       "  {'label': 'LABEL_2', 'score': 0.06736910343170166}]]"
      ]
     },
     "execution_count": 13,
     "metadata": {},
     "output_type": "execute_result"
    }
   ],
   "source": [
    "twitter(text)"
   ]
  },
  {
   "cell_type": "markdown",
   "id": "2805ea04-7904-4f03-ab60-5aa357ec2786",
   "metadata": {},
   "source": [
    "# Get labels with highest probability from transformers"
   ]
  },
  {
   "cell_type": "code",
   "execution_count": 16,
   "id": "83e123bc-82ae-4d08-855c-cadba9b21acb",
   "metadata": {
    "tags": []
   },
   "outputs": [],
   "source": [
    "def get_sentiment_label_twitter(list_of_sent_dicts):\n",
    "    if list_of_sent_dicts[0]['score'] >= 0.5:\n",
    "        return 0\n",
    "    else:\n",
    "        return 1"
   ]
  },
  {
   "cell_type": "code",
   "execution_count": 17,
   "id": "0b52eea1-e7dc-4135-8dc2-4cda1e787d58",
   "metadata": {},
   "outputs": [
    {
     "data": {
      "text/plain": [
       "1"
      ]
     },
     "execution_count": 17,
     "metadata": {},
     "output_type": "execute_result"
    }
   ],
   "source": [
    "get_sentiment_label_twitter(twitter(text)[0])"
   ]
  },
  {
   "cell_type": "code",
   "execution_count": 18,
   "id": "8322c065-32a7-4b18-ba66-f01649dadb9e",
   "metadata": {},
   "outputs": [],
   "source": [
    "def get_sentiment_label_facebook(list_of_sent_dicts):\n",
    "    if list_of_sent_dicts['labels'][0] == 'negative':\n",
    "        return 0\n",
    "    else:\n",
    "        return 1"
   ]
  },
  {
   "cell_type": "code",
   "execution_count": 19,
   "id": "a702f5bf-2d89-460d-bd81-6ac5215951db",
   "metadata": {},
   "outputs": [
    {
     "data": {
      "text/plain": [
       "1"
      ]
     },
     "execution_count": 19,
     "metadata": {},
     "output_type": "execute_result"
    }
   ],
   "source": [
    "labels = ['positive', 'negative']\n",
    "get_sentiment_label_facebook(facebook(text, labels, multi_label=False))"
   ]
  },
  {
   "cell_type": "code",
   "execution_count": 20,
   "id": "53ebc6d3-99b3-4389-8bbe-049268cefdc4",
   "metadata": {},
   "outputs": [],
   "source": [
    "def get_sentiment_label_sst(list_of_sent_dicts):\n",
    "    arg_max = np.array([i['score'] for i in list_of_sent_dicts]).argmax()\n",
    "    return arg_max"
   ]
  },
  {
   "cell_type": "code",
   "execution_count": 21,
   "id": "272159f3-f30c-4d46-a3b4-977473826675",
   "metadata": {},
   "outputs": [
    {
     "data": {
      "text/plain": [
       "1"
      ]
     },
     "execution_count": 21,
     "metadata": {},
     "output_type": "execute_result"
    }
   ],
   "source": [
    "get_sentiment_label_sst(sst(text)[0])"
   ]
  },
  {
   "cell_type": "code",
   "execution_count": 25,
   "id": "a18be274-0ab0-440d-903f-08da6cf610da",
   "metadata": {},
   "outputs": [
    {
     "name": "stderr",
     "output_type": "stream",
     "text": [
      "C:\\Users\\USER\\AppData\\Roaming\\Python\\Python38\\site-packages\\transformers\\pipelines\\base.py:976: UserWarning: You seem to be using the pipelines sequentially on GPU. In order to maximize efficiency please use a dataset\n",
      "  warnings.warn(\n"
     ]
    },
    {
     "data": {
      "text/html": [
       "<div>\n",
       "<style scoped>\n",
       "    .dataframe tbody tr th:only-of-type {\n",
       "        vertical-align: middle;\n",
       "    }\n",
       "\n",
       "    .dataframe tbody tr th {\n",
       "        vertical-align: top;\n",
       "    }\n",
       "\n",
       "    .dataframe thead th {\n",
       "        text-align: right;\n",
       "    }\n",
       "</style>\n",
       "<table border=\"1\" class=\"dataframe\">\n",
       "  <thead>\n",
       "    <tr style=\"text-align: right;\">\n",
       "      <th></th>\n",
       "      <th>sequence</th>\n",
       "      <th>sentiment</th>\n",
       "      <th>predicted_sentiment_twitter</th>\n",
       "      <th>predicted_sentiment_facebook</th>\n",
       "      <th>predicted_sentiment_sst</th>\n",
       "    </tr>\n",
       "  </thead>\n",
       "  <tbody>\n",
       "    <tr>\n",
       "      <th>0</th>\n",
       "      <td>satisfied with the answer</td>\n",
       "      <td>1</td>\n",
       "      <td>1</td>\n",
       "      <td>1</td>\n",
       "      <td>1</td>\n",
       "    </tr>\n",
       "    <tr>\n",
       "      <th>1</th>\n",
       "      <td>Friendly employee</td>\n",
       "      <td>1</td>\n",
       "      <td>1</td>\n",
       "      <td>1</td>\n",
       "      <td>1</td>\n",
       "    </tr>\n",
       "    <tr>\n",
       "      <th>2</th>\n",
       "      <td>It took only a little time to fixed the proble...</td>\n",
       "      <td>1</td>\n",
       "      <td>1</td>\n",
       "      <td>1</td>\n",
       "      <td>0</td>\n",
       "    </tr>\n",
       "    <tr>\n",
       "      <th>3</th>\n",
       "      <td>I am satisfied with the carry-in service becau...</td>\n",
       "      <td>1</td>\n",
       "      <td>1</td>\n",
       "      <td>1</td>\n",
       "      <td>1</td>\n",
       "    </tr>\n",
       "    <tr>\n",
       "      <th>4</th>\n",
       "      <td>Easy and beautiful</td>\n",
       "      <td>1</td>\n",
       "      <td>1</td>\n",
       "      <td>1</td>\n",
       "      <td>1</td>\n",
       "    </tr>\n",
       "  </tbody>\n",
       "</table>\n",
       "</div>"
      ],
      "text/plain": [
       "                                            sequence  sentiment  \\\n",
       "0                          satisfied with the answer          1   \n",
       "1                                  Friendly employee          1   \n",
       "2  It took only a little time to fixed the proble...          1   \n",
       "3  I am satisfied with the carry-in service becau...          1   \n",
       "4                                 Easy and beautiful          1   \n",
       "\n",
       "   predicted_sentiment_twitter  predicted_sentiment_facebook  \\\n",
       "0                            1                             1   \n",
       "1                            1                             1   \n",
       "2                            1                             1   \n",
       "3                            1                             1   \n",
       "4                            1                             1   \n",
       "\n",
       "   predicted_sentiment_sst  \n",
       "0                        1  \n",
       "1                        1  \n",
       "2                        0  \n",
       "3                        1  \n",
       "4                        1  "
      ]
     },
     "execution_count": 25,
     "metadata": {},
     "output_type": "execute_result"
    }
   ],
   "source": [
    "sentiment_handlabel_df = handlabel_df[['sequence', 'sentiment']]\n",
    "\n",
    "# Make predictions with each of the transformers\n",
    "sentiment_handlabel_df['predicted_sentiment_twitter'] = sentiment_handlabel_df['sequence'].apply(lambda x: get_sentiment_label_twitter(twitter(x)[0]))\n",
    "sentiment_handlabel_df['predicted_sentiment_facebook'] = sentiment_handlabel_df['sequence'].apply(lambda x: get_sentiment_label_facebook(facebook(x, candidate_labels=['positive', 'negative'], hypothesis_template='The sentiment of this is {}')))\n",
    "sentiment_handlabel_df['predicted_sentiment_sst'] = sentiment_handlabel_df['sequence'].apply(lambda x: get_sentiment_label_sst(sst(x)[0]))\n",
    "\n",
    "sentiment_handlabel_df.head()"
   ]
  },
  {
   "cell_type": "code",
   "execution_count": 26,
   "id": "35494686-3739-4bec-b61b-bd94dd6a9fa6",
   "metadata": {},
   "outputs": [
    {
     "data": {
      "text/html": [
       "<div>\n",
       "<style scoped>\n",
       "    .dataframe tbody tr th:only-of-type {\n",
       "        vertical-align: middle;\n",
       "    }\n",
       "\n",
       "    .dataframe tbody tr th {\n",
       "        vertical-align: top;\n",
       "    }\n",
       "\n",
       "    .dataframe thead th {\n",
       "        text-align: right;\n",
       "    }\n",
       "</style>\n",
       "<table border=\"1\" class=\"dataframe\">\n",
       "  <thead>\n",
       "    <tr style=\"text-align: right;\">\n",
       "      <th></th>\n",
       "      <th>sequence</th>\n",
       "      <th>sentiment</th>\n",
       "      <th>predicted_sentiment_twitter</th>\n",
       "      <th>predicted_sentiment_facebook</th>\n",
       "      <th>predicted_sentiment_sst</th>\n",
       "      <th>predicted_sentiment_combined</th>\n",
       "    </tr>\n",
       "  </thead>\n",
       "  <tbody>\n",
       "    <tr>\n",
       "      <th>0</th>\n",
       "      <td>satisfied with the answer</td>\n",
       "      <td>1</td>\n",
       "      <td>1</td>\n",
       "      <td>1</td>\n",
       "      <td>1</td>\n",
       "      <td>1</td>\n",
       "    </tr>\n",
       "    <tr>\n",
       "      <th>1</th>\n",
       "      <td>Friendly employee</td>\n",
       "      <td>1</td>\n",
       "      <td>1</td>\n",
       "      <td>1</td>\n",
       "      <td>1</td>\n",
       "      <td>1</td>\n",
       "    </tr>\n",
       "    <tr>\n",
       "      <th>2</th>\n",
       "      <td>It took only a little time to fixed the proble...</td>\n",
       "      <td>1</td>\n",
       "      <td>1</td>\n",
       "      <td>1</td>\n",
       "      <td>0</td>\n",
       "      <td>1</td>\n",
       "    </tr>\n",
       "    <tr>\n",
       "      <th>3</th>\n",
       "      <td>I am satisfied with the carry-in service becau...</td>\n",
       "      <td>1</td>\n",
       "      <td>1</td>\n",
       "      <td>1</td>\n",
       "      <td>1</td>\n",
       "      <td>1</td>\n",
       "    </tr>\n",
       "    <tr>\n",
       "      <th>4</th>\n",
       "      <td>Easy and beautiful</td>\n",
       "      <td>1</td>\n",
       "      <td>1</td>\n",
       "      <td>1</td>\n",
       "      <td>1</td>\n",
       "      <td>1</td>\n",
       "    </tr>\n",
       "  </tbody>\n",
       "</table>\n",
       "</div>"
      ],
      "text/plain": [
       "                                            sequence  sentiment  \\\n",
       "0                          satisfied with the answer          1   \n",
       "1                                  Friendly employee          1   \n",
       "2  It took only a little time to fixed the proble...          1   \n",
       "3  I am satisfied with the carry-in service becau...          1   \n",
       "4                                 Easy and beautiful          1   \n",
       "\n",
       "   predicted_sentiment_twitter  predicted_sentiment_facebook  \\\n",
       "0                            1                             1   \n",
       "1                            1                             1   \n",
       "2                            1                             1   \n",
       "3                            1                             1   \n",
       "4                            1                             1   \n",
       "\n",
       "   predicted_sentiment_sst  predicted_sentiment_combined  \n",
       "0                        1                             1  \n",
       "1                        1                             1  \n",
       "2                        0                             1  \n",
       "3                        1                             1  \n",
       "4                        1                             1  "
      ]
     },
     "execution_count": 26,
     "metadata": {},
     "output_type": "execute_result"
    }
   ],
   "source": [
    "# Combine results from transformers using majority vote\n",
    "sentiment_handlabel_df['predicted_sentiment_combined'] = sentiment_handlabel_df[['predicted_sentiment_twitter', 'predicted_sentiment_facebook', 'predicted_sentiment_sst']].sum(axis=1)\n",
    "sentiment_handlabel_df['predicted_sentiment_combined'] = sentiment_handlabel_df['predicted_sentiment_combined'].apply(lambda x: 1 if x >= 2 else 0)\n",
    "sentiment_handlabel_df.head()"
   ]
  },
  {
   "cell_type": "code",
   "execution_count": 27,
   "id": "b5030aa7-2ea6-44d2-9b1c-7b35a6a44086",
   "metadata": {
    "tags": []
   },
   "outputs": [
    {
     "name": "stdout",
     "output_type": "stream",
     "text": [
      "--------------TWITTER--------------\n",
      "              precision    recall  f1-score   support\n",
      "\n",
      "    negative       0.92      0.41      0.57        83\n",
      "    positive       0.74      0.98      0.84       144\n",
      "\n",
      "    accuracy                           0.77       227\n",
      "   macro avg       0.83      0.69      0.71       227\n",
      "weighted avg       0.81      0.77      0.74       227\n",
      "\n",
      "\n",
      "\n",
      "--------------FACEBOOK--------------\n",
      "              precision    recall  f1-score   support\n",
      "\n",
      "    negative       0.92      0.65      0.76        83\n",
      "    positive       0.83      0.97      0.89       144\n",
      "\n",
      "    accuracy                           0.85       227\n",
      "   macro avg       0.87      0.81      0.83       227\n",
      "weighted avg       0.86      0.85      0.84       227\n",
      "\n",
      "\n",
      "\n",
      "--------------SST--------------\n",
      "              precision    recall  f1-score   support\n",
      "\n",
      "    negative       0.79      0.76      0.77        83\n",
      "    positive       0.86      0.88      0.87       144\n",
      "\n",
      "    accuracy                           0.84       227\n",
      "   macro avg       0.83      0.82      0.82       227\n",
      "weighted avg       0.84      0.84      0.84       227\n",
      "\n",
      "\n",
      "\n",
      "--------------COMBINED--------------\n",
      "              precision    recall  f1-score   support\n",
      "\n",
      "    negative       0.95      0.63      0.75        83\n",
      "    positive       0.82      0.98      0.89       144\n",
      "\n",
      "    accuracy                           0.85       227\n",
      "   macro avg       0.88      0.80      0.82       227\n",
      "weighted avg       0.87      0.85      0.84       227\n",
      "\n",
      "\n",
      "\n"
     ]
    }
   ],
   "source": [
    "# Score each transformer\n",
    "\n",
    "print('--------------TWITTER--------------')\n",
    "print(classification_report(y_true = sentiment_handlabel_df['sentiment'],\n",
    "                           y_pred = sentiment_handlabel_df['predicted_sentiment_twitter'],\n",
    "                           target_names=['negative', 'positive']))\n",
    "print('\\n')\n",
    "\n",
    "print('--------------FACEBOOK--------------')\n",
    "print(classification_report(y_true = sentiment_handlabel_df['sentiment'],\n",
    "                           y_pred = sentiment_handlabel_df['predicted_sentiment_facebook'],\n",
    "                           target_names=['negative', 'positive']))\n",
    "print('\\n')\n",
    "\n",
    "print('--------------SST--------------')\n",
    "print(classification_report(y_true = sentiment_handlabel_df['sentiment'],\n",
    "                           y_pred = sentiment_handlabel_df['predicted_sentiment_sst'],\n",
    "                           target_names=['negative', 'positive']))\n",
    "print('\\n')\n",
    "\n",
    "print('--------------COMBINED--------------')\n",
    "print(classification_report(y_true = sentiment_handlabel_df['sentiment'],\n",
    "                           y_pred = sentiment_handlabel_df['predicted_sentiment_combined'],\n",
    "                           target_names=['negative', 'positive']))\n",
    "print('\\n')"
   ]
  },
  {
   "cell_type": "code",
   "execution_count": 33,
   "id": "188ee208-7608-4dcc-9335-0edae6107c2b",
   "metadata": {},
   "outputs": [
    {
     "name": "stdout",
     "output_type": "stream",
     "text": [
      "--------------TWITTER--------------\n",
      "\n",
      "\n",
      "--------------FACEBOOK--------------\n",
      "\n",
      "\n",
      "--------------SST--------------\n",
      "\n",
      "\n",
      "--------------COMBINED--------------\n",
      "\n",
      "\n"
     ]
    },
    {
     "data": {
      "image/png": "[encoded data removed]",
      "text/plain": [
       "<Figure size 432x288 with 2 Axes>"
      ]
     },
     "metadata": {
      "needs_background": "light"
     },
     "output_type": "display_data"
    },
    {
     "data": {
      "image/png": "[encoded data removed]",
      "text/plain": [
       "<Figure size 432x288 with 2 Axes>"
      ]
     },
     "metadata": {
      "needs_background": "light"
     },
     "output_type": "display_data"
    },
    {
     "data": {
      "image/png": "[encoded data removed]",
      "text/plain": [
       "<Figure size 432x288 with 2 Axes>"
      ]
     },
     "metadata": {
      "needs_background": "light"
     },
     "output_type": "display_data"
    },
    {
     "data": {
      "image/png": "[encoded data removed]",
      "text/plain": [
       "<Figure size 432x288 with 2 Axes>"
      ]
     },
     "metadata": {
      "needs_background": "light"
     },
     "output_type": "display_data"
    }
   ],
   "source": [
    "print('--------------TWITTER--------------')\n",
    "cm = confusion_matrix(y_true = sentiment_handlabel_df['sentiment'],\n",
    "                           y_pred = sentiment_handlabel_df['predicted_sentiment_twitter']\n",
    "                           )\n",
    "\n",
    "ConfusionMatrixDisplay(confusion_matrix=cm, display_labels=['negative', 'positive']).plot()\n",
    "print('\\n')\n",
    "\n",
    "print('--------------FACEBOOK--------------')\n",
    "cm = confusion_matrix(y_true = sentiment_handlabel_df['sentiment'],\n",
    "                           y_pred = sentiment_handlabel_df['predicted_sentiment_facebook']\n",
    "                           )\n",
    "\n",
    "ConfusionMatrixDisplay(confusion_matrix=cm, display_labels=['negative', 'positive']).plot()\n",
    "print('\\n')\n",
    "\n",
    "print('--------------SST--------------')\n",
    "cm = confusion_matrix(y_true = sentiment_handlabel_df['sentiment'],\n",
    "                           y_pred = sentiment_handlabel_df['predicted_sentiment_sst']\n",
    "                           )\n",
    "\n",
    "ConfusionMatrixDisplay(confusion_matrix=cm, display_labels=['negative', 'positive']).plot()\n",
    "print('\\n')\n",
    "\n",
    "print('--------------COMBINED--------------')\n",
    "cm = confusion_matrix(y_true = sentiment_handlabel_df['sentiment'],\n",
    "                           y_pred = sentiment_handlabel_df['predicted_sentiment_combined']\n",
    "                           )\n",
    "\n",
    "ConfusionMatrixDisplay(confusion_matrix=cm, display_labels=['negative', 'positive']).plot()\n",
    "print('\\n')"
   ]
  },
  {
   "cell_type": "code",
   "execution_count": null,
   "id": "b6450e32-8ef5-4569-9a1b-0ca05da6f422",
   "metadata": {},
   "outputs": [],
   "source": []
  }
 ],
 "metadata": {
  "kernelspec": {
   "display_name": "Python 3",
   "language": "python",
   "name": "python3"
  },
  "language_info": {
   "codemirror_mode": {
    "name": "ipython",
    "version": 3
   },
   "file_extension": ".py",
   "mimetype": "text/x-python",
   "name": "python",
   "nbconvert_exporter": "python",
   "pygments_lexer": "ipython3",
   "version": "3.8.8"
  }
 },
 "nbformat": 4,
 "nbformat_minor": 5
}
