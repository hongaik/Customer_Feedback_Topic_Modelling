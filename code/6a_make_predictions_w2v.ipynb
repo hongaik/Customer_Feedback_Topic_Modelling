{
 "cells": [
  {
   "cell_type": "code",
   "execution_count": 2,
   "id": "eefca807-4f41-4ab7-aec5-8b82102af590",
   "metadata": {},
   "outputs": [],
   "source": [
    "import pandas as pd, numpy as np, seaborn as sns, matplotlib.pyplot as plt\n",
    "from datetime import datetime\n",
    "import pickle, json\n",
    "from utils.helpers import *\n",
    "import os.path\n",
    "from transformers import pipeline\n",
    "from gensim.models.keyedvectors import KeyedVectors"
   ]
  },
  {
   "cell_type": "markdown",
   "id": "94b6349a-5318-433d-a436-041e2dfd0b31",
   "metadata": {},
   "source": [
    "# Import data"
   ]
  },
  {
   "cell_type": "code",
   "execution_count": 3,
   "id": "ba3ef19d-624e-4e33-bb3f-d09ce2903ef4",
   "metadata": {},
   "outputs": [],
   "source": [
    "all_feedback = pd.read_csv('../data/all_feedback_consolidated.csv')\n",
    "all_feedback = all_feedback[['country', 'channel', 'Question', 'Text_Eng']]\n",
    "\n",
    "# Remove rows with text length <= 10. These rows will be tagged as Others by default\n",
    "short_text = all_feedback[all_feedback['Text_Eng'].str.len() <= 10].reset_index(drop=True)\n",
    "all_feedback = all_feedback[all_feedback['Text_Eng'].str.len() > 10].reset_index(drop=True)"
   ]
  },
  {
   "cell_type": "code",
   "execution_count": 4,
   "id": "4292e4ed-b9c5-414f-b91f-c2fc1d90a227",
   "metadata": {},
   "outputs": [],
   "source": [
    "all_feedback.columns = ['country', 'channel', 'Question', 'sequence']"
   ]
  },
  {
   "cell_type": "code",
   "execution_count": 5,
   "id": "76203304-8eca-4391-86ed-966ce57ba751",
   "metadata": {},
   "outputs": [
    {
     "data": {
      "text/plain": [
       "(10159, 4)"
      ]
     },
     "execution_count": 5,
     "metadata": {},
     "output_type": "execute_result"
    }
   ],
   "source": [
    "all_feedback.shape"
   ]
  },
  {
   "cell_type": "markdown",
   "id": "d8005820-7114-4036-b31b-9cea29e8a1dd",
   "metadata": {},
   "source": [
    "# Import models"
   ]
  },
  {
   "cell_type": "code",
   "execution_count": 6,
   "id": "5a711ec6-0cd8-4f79-a2bb-2a05d52193c2",
   "metadata": {},
   "outputs": [],
   "source": [
    "w2v = KeyedVectors.load('../models/word2vec')"
   ]
  },
  {
   "cell_type": "code",
   "execution_count": 7,
   "id": "cfb29c29-bca5-41e3-af5c-0805afe04a61",
   "metadata": {},
   "outputs": [],
   "source": [
    "w2v_ovr_svc = pickle.load(open('../models/w2v_ovr_svc.sav', 'rb'))"
   ]
  },
  {
   "cell_type": "code",
   "execution_count": 8,
   "id": "57fcbb9f-74b4-4d32-b15b-429e94d04c89",
   "metadata": {},
   "outputs": [],
   "source": [
    "classifier = pipeline(\"zero-shot-classification\",\n",
    "                      model=\"facebook/bart-large-mnli\", device=0, framework='pt'\n",
    "                     )"
   ]
  },
  {
   "cell_type": "code",
   "execution_count": 1,
   "id": "66087f1c-6833-4e08-8123-b3aa7e072934",
   "metadata": {},
   "outputs": [],
   "source": [
    "# Vectorize full corpus\n",
    "text_vectorized = preprocess_w2v(all_feedback, w2v)"
   ]
  },
  {
   "cell_type": "code",
   "execution_count": 11,
   "id": "01421fe7-691f-4bd0-94f7-2d03bfb61fb5",
   "metadata": {},
   "outputs": [],
   "source": [
    "labels = [\n",
    "    'communication', 'waiting time',\n",
    "       'information', 'user interface',\n",
    "       'facilities', 'location', 'price'\n",
    "]"
   ]
  },
  {
   "cell_type": "markdown",
   "id": "bd4fd733-a3c0-4fe4-a242-2f94be66cca8",
   "metadata": {},
   "source": [
    "# Holdout set evaluation"
   ]
  },
  {
   "cell_type": "code",
   "execution_count": 12,
   "id": "80ae97dd-7dfa-47e6-b4c8-5532c0225ecc",
   "metadata": {},
   "outputs": [],
   "source": [
    "holdout = pd.read_csv('../data/holdout.csv')"
   ]
  },
  {
   "cell_type": "code",
   "execution_count": 2,
   "id": "be504f5f-d2c2-4656-a03c-cd620b244e77",
   "metadata": {},
   "outputs": [],
   "source": [
    "holdout_vectorized = preprocess_w2v(holdout, w2v)"
   ]
  },
  {
   "cell_type": "code",
   "execution_count": 14,
   "id": "e44f76dd-a0c1-480e-8df5-f145317ad315",
   "metadata": {},
   "outputs": [
    {
     "data": {
      "text/html": [
       "<div>\n",
       "<style scoped>\n",
       "    .dataframe tbody tr th:only-of-type {\n",
       "        vertical-align: middle;\n",
       "    }\n",
       "\n",
       "    .dataframe tbody tr th {\n",
       "        vertical-align: top;\n",
       "    }\n",
       "\n",
       "    .dataframe thead th {\n",
       "        text-align: right;\n",
       "    }\n",
       "</style>\n",
       "<table border=\"1\" class=\"dataframe\">\n",
       "  <thead>\n",
       "    <tr style=\"text-align: right;\">\n",
       "      <th></th>\n",
       "      <th>communication</th>\n",
       "      <th>waiting time</th>\n",
       "      <th>information</th>\n",
       "      <th>user interface</th>\n",
       "      <th>facilities</th>\n",
       "      <th>location</th>\n",
       "      <th>price</th>\n",
       "    </tr>\n",
       "  </thead>\n",
       "  <tbody>\n",
       "    <tr>\n",
       "      <th>0</th>\n",
       "      <td>0</td>\n",
       "      <td>0</td>\n",
       "      <td>1</td>\n",
       "      <td>1</td>\n",
       "      <td>0</td>\n",
       "      <td>0</td>\n",
       "      <td>0</td>\n",
       "    </tr>\n",
       "    <tr>\n",
       "      <th>1</th>\n",
       "      <td>0</td>\n",
       "      <td>0</td>\n",
       "      <td>1</td>\n",
       "      <td>0</td>\n",
       "      <td>0</td>\n",
       "      <td>0</td>\n",
       "      <td>0</td>\n",
       "    </tr>\n",
       "    <tr>\n",
       "      <th>2</th>\n",
       "      <td>0</td>\n",
       "      <td>0</td>\n",
       "      <td>1</td>\n",
       "      <td>0</td>\n",
       "      <td>0</td>\n",
       "      <td>0</td>\n",
       "      <td>0</td>\n",
       "    </tr>\n",
       "    <tr>\n",
       "      <th>3</th>\n",
       "      <td>0</td>\n",
       "      <td>0</td>\n",
       "      <td>1</td>\n",
       "      <td>0</td>\n",
       "      <td>0</td>\n",
       "      <td>0</td>\n",
       "      <td>1</td>\n",
       "    </tr>\n",
       "    <tr>\n",
       "      <th>4</th>\n",
       "      <td>0</td>\n",
       "      <td>0</td>\n",
       "      <td>1</td>\n",
       "      <td>0</td>\n",
       "      <td>0</td>\n",
       "      <td>0</td>\n",
       "      <td>0</td>\n",
       "    </tr>\n",
       "  </tbody>\n",
       "</table>\n",
       "</div>"
      ],
      "text/plain": [
       "   communication  waiting time  information  user interface  facilities  \\\n",
       "0              0             0            1               1           0   \n",
       "1              0             0            1               0           0   \n",
       "2              0             0            1               0           0   \n",
       "3              0             0            1               0           0   \n",
       "4              0             0            1               0           0   \n",
       "\n",
       "   location  price  \n",
       "0         0      0  \n",
       "1         0      0  \n",
       "2         0      0  \n",
       "3         0      1  \n",
       "4         0      0  "
      ]
     },
     "execution_count": 14,
     "metadata": {},
     "output_type": "execute_result"
    }
   ],
   "source": [
    "holdout_prob_df = pd.DataFrame(w2v_ovr_svc.predict(holdout_vectorized[range(300)]), columns=labels)\n",
    "holdout_prob_df.head()"
   ]
  },
  {
   "cell_type": "code",
   "execution_count": 15,
   "id": "0bc1ba45-bd89-48e6-9fa2-33335f68a9a4",
   "metadata": {},
   "outputs": [
    {
     "name": "stdout",
     "output_type": "stream",
     "text": [
      "                precision    recall  f1-score   support\n",
      "\n",
      " communication       1.00      0.50      0.67        10\n",
      "  waiting time       1.00      0.38      0.56        13\n",
      "   information       0.71      0.71      0.71        17\n",
      "user interface       0.62      1.00      0.77         5\n",
      "    facilities       1.00      0.17      0.29         6\n",
      "      location       0.50      0.67      0.57         3\n",
      "         price       0.67      1.00      0.80         4\n",
      "\n",
      "     micro avg       0.74      0.59      0.65        58\n",
      "     macro avg       0.79      0.63      0.62        58\n",
      "  weighted avg       0.83      0.59      0.63        58\n",
      "   samples avg       0.70      0.67      0.65        58\n",
      "\n"
     ]
    }
   ],
   "source": [
    "print(classification_report(holdout[labels], holdout_prob_df, target_names=labels, zero_division=0))"
   ]
  },
  {
   "cell_type": "markdown",
   "id": "7a7cd931-593e-4a65-9024-b6bc62e52c5f",
   "metadata": {},
   "source": [
    "# Make predictions using trained SVC model "
   ]
  },
  {
   "cell_type": "code",
   "execution_count": 16,
   "id": "8466c6f7-b140-41f8-82e9-308db5a6b2d5",
   "metadata": {},
   "outputs": [
    {
     "data": {
      "text/html": [
       "<div>\n",
       "<style scoped>\n",
       "    .dataframe tbody tr th:only-of-type {\n",
       "        vertical-align: middle;\n",
       "    }\n",
       "\n",
       "    .dataframe tbody tr th {\n",
       "        vertical-align: top;\n",
       "    }\n",
       "\n",
       "    .dataframe thead th {\n",
       "        text-align: right;\n",
       "    }\n",
       "</style>\n",
       "<table border=\"1\" class=\"dataframe\">\n",
       "  <thead>\n",
       "    <tr style=\"text-align: right;\">\n",
       "      <th></th>\n",
       "      <th>communication</th>\n",
       "      <th>waiting time</th>\n",
       "      <th>information</th>\n",
       "      <th>user interface</th>\n",
       "      <th>facilities</th>\n",
       "      <th>location</th>\n",
       "      <th>price</th>\n",
       "    </tr>\n",
       "  </thead>\n",
       "  <tbody>\n",
       "    <tr>\n",
       "      <th>0</th>\n",
       "      <td>0</td>\n",
       "      <td>0</td>\n",
       "      <td>1</td>\n",
       "      <td>1</td>\n",
       "      <td>0</td>\n",
       "      <td>0</td>\n",
       "      <td>0</td>\n",
       "    </tr>\n",
       "    <tr>\n",
       "      <th>1</th>\n",
       "      <td>0</td>\n",
       "      <td>0</td>\n",
       "      <td>1</td>\n",
       "      <td>0</td>\n",
       "      <td>0</td>\n",
       "      <td>0</td>\n",
       "      <td>0</td>\n",
       "    </tr>\n",
       "    <tr>\n",
       "      <th>2</th>\n",
       "      <td>0</td>\n",
       "      <td>0</td>\n",
       "      <td>1</td>\n",
       "      <td>0</td>\n",
       "      <td>0</td>\n",
       "      <td>0</td>\n",
       "      <td>0</td>\n",
       "    </tr>\n",
       "    <tr>\n",
       "      <th>3</th>\n",
       "      <td>0</td>\n",
       "      <td>0</td>\n",
       "      <td>1</td>\n",
       "      <td>0</td>\n",
       "      <td>0</td>\n",
       "      <td>0</td>\n",
       "      <td>1</td>\n",
       "    </tr>\n",
       "    <tr>\n",
       "      <th>4</th>\n",
       "      <td>0</td>\n",
       "      <td>0</td>\n",
       "      <td>1</td>\n",
       "      <td>0</td>\n",
       "      <td>0</td>\n",
       "      <td>0</td>\n",
       "      <td>0</td>\n",
       "    </tr>\n",
       "  </tbody>\n",
       "</table>\n",
       "</div>"
      ],
      "text/plain": [
       "   communication  waiting time  information  user interface  facilities  \\\n",
       "0              0             0            1               1           0   \n",
       "1              0             0            1               0           0   \n",
       "2              0             0            1               0           0   \n",
       "3              0             0            1               0           0   \n",
       "4              0             0            1               0           0   \n",
       "\n",
       "   location  price  \n",
       "0         0      0  \n",
       "1         0      0  \n",
       "2         0      0  \n",
       "3         0      1  \n",
       "4         0      0  "
      ]
     },
     "execution_count": 16,
     "metadata": {},
     "output_type": "execute_result"
    }
   ],
   "source": [
    "svc_prob_df = pd.DataFrame(w2v_ovr_svc.predict(text_vectorized[range(300)]), columns=labels)\n",
    "svc_prob_df.head()"
   ]
  },
  {
   "cell_type": "code",
   "execution_count": 17,
   "id": "1d5f8141-f59a-46a6-9517-1e3fb507a0dc",
   "metadata": {},
   "outputs": [],
   "source": [
    "# For texts that are not predicted to reside in any category, tag as Others\n",
    "svc_predictions = all_feedback.join(svc_prob_df)\n",
    "svc_predictions['others'] = svc_predictions[labels].max(axis=1)\n",
    "svc_predictions['others'] = svc_predictions['others'].apply(lambda x: 1 if x == 0 else 0)"
   ]
  },
  {
   "cell_type": "code",
   "execution_count": 18,
   "id": "4f2560d0-fb6c-4ef7-941c-ac4186c1f168",
   "metadata": {},
   "outputs": [
    {
     "data": {
      "text/plain": [
       "0    8938\n",
       "1    1221\n",
       "Name: others, dtype: int64"
      ]
     },
     "execution_count": 18,
     "metadata": {},
     "output_type": "execute_result"
    }
   ],
   "source": [
    "svc_predictions.others.value_counts()"
   ]
  },
  {
   "cell_type": "markdown",
   "id": "4eb974b3-453e-47b0-8cbd-7cde4fb7fce3",
   "metadata": {},
   "source": [
    "# Add back short text rows"
   ]
  },
  {
   "cell_type": "code",
   "execution_count": 22,
   "id": "323c47c3-9a0a-4ff6-8b75-0cbe1140375a",
   "metadata": {},
   "outputs": [],
   "source": [
    "svc_predictions = svc_predictions.drop(columns=['sequence_clean'])"
   ]
  },
  {
   "cell_type": "code",
   "execution_count": 23,
   "id": "8988c57f-9ae5-459d-9d55-5e47e9c01ac2",
   "metadata": {},
   "outputs": [],
   "source": [
    "short_text[labels] = 0\n",
    "short_text['others'] = 1"
   ]
  },
  {
   "cell_type": "code",
   "execution_count": 24,
   "id": "7315908a-ea98-4783-9bb9-5a281626f61d",
   "metadata": {},
   "outputs": [],
   "source": [
    "short_text.columns = ['country', 'channel', 'Question', 'sequence', 'communication',\n",
    "       'waiting time', 'information', 'user interface', 'facilities',\n",
    "       'location', 'price', 'others']"
   ]
  },
  {
   "cell_type": "code",
   "execution_count": 25,
   "id": "a84b6f78-1360-4f78-977e-ffcc04615482",
   "metadata": {},
   "outputs": [],
   "source": [
    "final_dataframe = pd.concat([svc_predictions, short_text]).reset_index(drop=True)"
   ]
  },
  {
   "cell_type": "markdown",
   "id": "6e1afba0-e38d-421e-af7f-0d24bed15f02",
   "metadata": {},
   "source": [
    "# Get sentiment labels"
   ]
  },
  {
   "cell_type": "code",
   "execution_count": 26,
   "id": "d58eed4c-7fc7-48f4-b7d7-763f38be142f",
   "metadata": {},
   "outputs": [],
   "source": [
    "def get_sentiment_label_facebook(list_of_sent_dicts):\n",
    "    if list_of_sent_dicts['labels'][0] == 'negative':\n",
    "        return 0\n",
    "    else:\n",
    "        return 1"
   ]
  },
  {
   "cell_type": "code",
   "execution_count": 3,
   "id": "bf985123-088a-4871-936c-7bda0eca5c01",
   "metadata": {},
   "outputs": [],
   "source": [
    "final_dataframe['sentiment'] = final_dataframe['sequence'].apply(lambda x: get_sentiment_label_facebook(classifier(x, candidate_labels=['positive', 'negative'], hypothesis_template='The sentiment of this is {}')))"
   ]
  },
  {
   "cell_type": "code",
   "execution_count": 28,
   "id": "4fcffda6-6f60-4a54-8c7b-4536cbfbfec8",
   "metadata": {},
   "outputs": [],
   "source": [
    "final_dataframe.to_csv('../data/final_outputs.csv', index=False)"
   ]
  }
 ],
 "metadata": {
  "kernelspec": {
   "display_name": "Python 3",
   "language": "python",
   "name": "python3"
  },
  "language_info": {
   "codemirror_mode": {
    "name": "ipython",
    "version": 3
   },
   "file_extension": ".py",
   "mimetype": "text/x-python",
   "name": "python",
   "nbconvert_exporter": "python",
   "pygments_lexer": "ipython3",
   "version": "3.8.8"
  }
 },
 "nbformat": 4,
 "nbformat_minor": 5
}
