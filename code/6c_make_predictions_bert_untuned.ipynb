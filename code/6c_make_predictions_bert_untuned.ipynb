{
 "cells": [
  {
   "cell_type": "code",
   "execution_count": 1,
   "id": "eefca807-4f41-4ab7-aec5-8b82102af590",
   "metadata": {},
   "outputs": [],
   "source": [
    "import pandas as pd, numpy as np, seaborn as sns, matplotlib.pyplot as plt\n",
    "from datetime import datetime\n",
    "import pickle, json\n",
    "from utils.helpers import *\n",
    "import os.path\n",
    "from transformers import pipeline\n",
    "from transformers import BertTokenizer, BertModel\n",
    "import torch"
   ]
  },
  {
   "cell_type": "markdown",
   "id": "94b6349a-5318-433d-a436-041e2dfd0b31",
   "metadata": {},
   "source": [
    "# Import data"
   ]
  },
  {
   "cell_type": "code",
   "execution_count": 2,
   "id": "ba3ef19d-624e-4e33-bb3f-d09ce2903ef4",
   "metadata": {},
   "outputs": [],
   "source": [
    "all_feedback = pd.read_csv('../data/all_feedback_consolidated.csv')\n",
    "all_feedback = all_feedback[['country', 'channel', 'Question', 'Text_Eng']]\n",
    "\n",
    "# Remove texts with length <= 10. These are tagged as Others by default\n",
    "short_text = all_feedback[all_feedback['Text_Eng'].str.len() <= 10].reset_index(drop=True)\n",
    "all_feedback = all_feedback[all_feedback['Text_Eng'].str.len() > 10].reset_index(drop=True)"
   ]
  },
  {
   "cell_type": "code",
   "execution_count": 3,
   "id": "4292e4ed-b9c5-414f-b91f-c2fc1d90a227",
   "metadata": {},
   "outputs": [],
   "source": [
    "all_feedback.columns = ['country', 'channel', 'Question', 'sequence']"
   ]
  },
  {
   "cell_type": "code",
   "execution_count": 4,
   "id": "76203304-8eca-4391-86ed-966ce57ba751",
   "metadata": {},
   "outputs": [
    {
     "data": {
      "text/plain": [
       "(10159, 4)"
      ]
     },
     "execution_count": 4,
     "metadata": {},
     "output_type": "execute_result"
    }
   ],
   "source": [
    "all_feedback.shape"
   ]
  },
  {
   "cell_type": "markdown",
   "id": "d8005820-7114-4036-b31b-9cea29e8a1dd",
   "metadata": {},
   "source": [
    "# Import models"
   ]
  },
  {
   "cell_type": "code",
   "execution_count": 7,
   "id": "5a711ec6-0cd8-4f79-a2bb-2a05d52193c2",
   "metadata": {},
   "outputs": [
    {
     "name": "stderr",
     "output_type": "stream",
     "text": [
      "Some weights of the model checkpoint at bert-base-uncased were not used when initializing BertModel: ['cls.predictions.transform.dense.weight', 'cls.predictions.bias', 'cls.predictions.transform.dense.bias', 'cls.seq_relationship.weight', 'cls.predictions.decoder.weight', 'cls.predictions.transform.LayerNorm.bias', 'cls.seq_relationship.bias', 'cls.predictions.transform.LayerNorm.weight']\n",
      "- This IS expected if you are initializing BertModel from the checkpoint of a model trained on another task or with another architecture (e.g. initializing a BertForSequenceClassification model from a BertForPreTraining model).\n",
      "- This IS NOT expected if you are initializing BertModel from the checkpoint of a model that you expect to be exactly identical (initializing a BertForSequenceClassification model from a BertForSequenceClassification model).\n"
     ]
    }
   ],
   "source": [
    "tokenizer = BertTokenizer.from_pretrained('bert-base-uncased')\n",
    "model = BertModel.from_pretrained(\"bert-base-uncased\")"
   ]
  },
  {
   "cell_type": "code",
   "execution_count": 8,
   "id": "cfb29c29-bca5-41e3-af5c-0805afe04a61",
   "metadata": {},
   "outputs": [],
   "source": [
    "pca = pickle.load(open('../models/pca_bert_untuned.sav', 'rb'))"
   ]
  },
  {
   "cell_type": "code",
   "execution_count": 9,
   "id": "dc58f30e-100d-46a8-bc25-77f5f0ba3b88",
   "metadata": {},
   "outputs": [],
   "source": [
    "ovr_svc_bert_untuned_pca = pickle.load(open('../models/bert_untuned_ovr_svc.sav', 'rb'))"
   ]
  },
  {
   "cell_type": "code",
   "execution_count": 10,
   "id": "66087f1c-6833-4e08-8123-b3aa7e072934",
   "metadata": {
    "scrolled": true,
    "tags": []
   },
   "outputs": [
    {
     "name": "stdout",
     "output_type": "stream",
     "text": [
      "Batch 0 started at 09-03-2022 21:14:41\n",
      "Batch 100 started at 09-03-2022 21:17:27\n",
      "Batch 200 started at 09-03-2022 21:20:41\n",
      "Batch 300 started at 09-03-2022 21:24:09\n",
      "Batch 400 started at 09-03-2022 21:27:33\n",
      "Batch 500 started at 09-03-2022 21:30:59\n",
      "Batch 600 started at 09-03-2022 21:34:25\n",
      "Batch 700 started at 09-03-2022 21:38:01\n",
      "Batch 800 started at 09-03-2022 21:41:28\n",
      "Batch 900 started at 09-03-2022 21:44:55\n",
      "Batch 1000 started at 09-03-2022 21:48:23\n",
      "Batch 1100 started at 09-03-2022 21:51:51\n",
      "Batch 1200 started at 09-03-2022 21:55:19\n",
      "Batch 1300 started at 09-03-2022 21:58:22\n",
      "Batch 1400 started at 09-03-2022 22:00:57\n",
      "Batch 1500 started at 09-03-2022 22:03:32\n",
      "Batch 1600 started at 09-03-2022 22:06:07\n",
      "Batch 1700 started at 09-03-2022 22:08:42\n",
      "Batch 1800 started at 09-03-2022 22:11:16\n",
      "Batch 1900 started at 09-03-2022 22:14:23\n",
      "Batch 2000 started at 09-03-2022 22:17:51\n",
      "Batch 2100 started at 09-03-2022 22:21:19\n",
      "Batch 2200 started at 09-03-2022 22:24:47\n",
      "Batch 2300 started at 09-03-2022 22:28:15\n",
      "Batch 2400 started at 09-03-2022 22:31:43\n",
      "Batch 2500 started at 09-03-2022 22:35:10\n",
      "Batch 2600 started at 09-03-2022 22:38:39\n",
      "Batch 2700 started at 09-03-2022 22:42:07\n",
      "Batch 2800 started at 09-03-2022 22:45:35\n",
      "Batch 2900 started at 09-03-2022 22:49:05\n",
      "Batch 3000 started at 09-03-2022 22:52:33\n",
      "Batch 3100 started at 09-03-2022 22:56:00\n",
      "Batch 3200 started at 09-03-2022 22:59:28\n",
      "Batch 3300 started at 09-03-2022 23:02:20\n",
      "Batch 3400 started at 09-03-2022 23:05:37\n",
      "Batch 3500 started at 09-03-2022 23:09:06\n",
      "Batch 3600 started at 09-03-2022 23:12:35\n",
      "Batch 3700 started at 09-03-2022 23:16:02\n",
      "Batch 3800 started at 09-03-2022 23:19:31\n",
      "Batch 3900 started at 09-03-2022 23:22:58\n",
      "Batch 4000 started at 09-03-2022 23:26:27\n",
      "Batch 4100 started at 09-03-2022 23:29:56\n",
      "Batch 4200 started at 09-03-2022 23:33:25\n",
      "Batch 4300 started at 09-03-2022 23:36:57\n",
      "Batch 4400 started at 09-03-2022 23:40:27\n",
      "Batch 4500 started at 09-03-2022 23:43:56\n",
      "Batch 4600 started at 09-03-2022 23:47:24\n",
      "Batch 4700 started at 09-03-2022 23:50:52\n",
      "Batch 4800 started at 09-03-2022 23:54:20\n",
      "Batch 4900 started at 09-03-2022 23:57:47\n",
      "Batch 5000 started at 10-03-2022 00:01:14\n",
      "Batch 5100 started at 10-03-2022 00:04:45\n",
      "Batch 5200 started at 10-03-2022 00:08:12\n",
      "Batch 5300 started at 10-03-2022 00:11:38\n",
      "Batch 5400 started at 10-03-2022 00:15:06\n",
      "Batch 5500 started at 10-03-2022 00:18:36\n",
      "Batch 5600 started at 10-03-2022 00:22:05\n",
      "Batch 5700 started at 10-03-2022 00:24:41\n",
      "Batch 5800 started at 10-03-2022 00:27:17\n",
      "Batch 5900 started at 10-03-2022 00:29:46\n",
      "Batch 6000 started at 10-03-2022 00:32:39\n",
      "Batch 6100 started at 10-03-2022 00:35:35\n",
      "Batch 6200 started at 10-03-2022 00:38:30\n",
      "Batch 6300 started at 10-03-2022 00:41:26\n",
      "Batch 6400 started at 10-03-2022 00:44:22\n",
      "Batch 6500 started at 10-03-2022 00:47:18\n",
      "Batch 6600 started at 10-03-2022 00:50:14\n",
      "Batch 6700 started at 10-03-2022 00:53:09\n",
      "Batch 6800 started at 10-03-2022 00:56:06\n",
      "Batch 6900 started at 10-03-2022 00:59:02\n",
      "Batch 7000 started at 10-03-2022 01:01:56\n",
      "Batch 7100 started at 10-03-2022 01:04:50\n",
      "Batch 7200 started at 10-03-2022 01:07:45\n",
      "Batch 7300 started at 10-03-2022 01:10:40\n",
      "Batch 7400 started at 10-03-2022 01:13:35\n",
      "Batch 7500 started at 10-03-2022 01:16:32\n",
      "Batch 7600 started at 10-03-2022 01:19:29\n",
      "Batch 7700 started at 10-03-2022 01:22:26\n",
      "Batch 7800 started at 10-03-2022 01:25:23\n",
      "Batch 7900 started at 10-03-2022 01:28:21\n",
      "Batch 8000 started at 10-03-2022 01:31:16\n",
      "Batch 8100 started at 10-03-2022 01:34:11\n",
      "Batch 8200 started at 10-03-2022 01:37:08\n",
      "Batch 8300 started at 10-03-2022 01:40:05\n",
      "Batch 8400 started at 10-03-2022 01:43:02\n",
      "Batch 8500 started at 10-03-2022 01:45:58\n",
      "Batch 8600 started at 10-03-2022 01:48:54\n",
      "Batch 8700 started at 10-03-2022 01:51:50\n",
      "Batch 8800 started at 10-03-2022 01:54:46\n",
      "Batch 8900 started at 10-03-2022 01:57:43\n",
      "Batch 9000 started at 10-03-2022 02:00:39\n",
      "Batch 9100 started at 10-03-2022 02:03:34\n",
      "Batch 9200 started at 10-03-2022 02:06:29\n",
      "Batch 9300 started at 10-03-2022 02:09:26\n",
      "Batch 9400 started at 10-03-2022 02:12:22\n",
      "Batch 9500 started at 10-03-2022 02:15:18\n",
      "Batch 9600 started at 10-03-2022 02:18:14\n",
      "Batch 9700 started at 10-03-2022 02:21:11\n",
      "Batch 9800 started at 10-03-2022 02:24:09\n",
      "Batch 9900 started at 10-03-2022 02:27:05\n",
      "Batch 10000 started at 10-03-2022 02:30:02\n",
      "Batch 10100 started at 10-03-2022 02:32:59\n",
      "Shape of bert vectors: (10159, 768)\n",
      "Shape of final dataframe: (10159, 772)\n"
     ]
    }
   ],
   "source": [
    "all_vectorized = preprocess_bert(model, tokenizer, all_feedback, batch_size=1)"
   ]
  },
  {
   "cell_type": "code",
   "execution_count": 12,
   "id": "cbdcd925-5b79-461c-9457-d5bfd61e1868",
   "metadata": {},
   "outputs": [],
   "source": [
    "all_vectorized.to_csv('../data/all_bert_untuned_vectorized.csv', index=False)"
   ]
  },
  {
   "cell_type": "code",
   "execution_count": 13,
   "id": "01421fe7-691f-4bd0-94f7-2d03bfb61fb5",
   "metadata": {},
   "outputs": [],
   "source": [
    "labels = [\n",
    "    'communication', 'waiting time',\n",
    "       'information', 'user interface',\n",
    "       'facilities', 'location', 'price'\n",
    "]"
   ]
  },
  {
   "cell_type": "markdown",
   "id": "663ceb09-12c0-43d8-aeb1-2cf935682a4c",
   "metadata": {},
   "source": [
    "# Holdout set evaluation"
   ]
  },
  {
   "cell_type": "code",
   "execution_count": 14,
   "id": "f00a9e76-9f62-4c98-822d-787ee2e97cd6",
   "metadata": {},
   "outputs": [],
   "source": [
    "holdout = pd.read_csv('../data/holdout.csv')"
   ]
  },
  {
   "cell_type": "code",
   "execution_count": 15,
   "id": "3c67794b-1223-4391-996f-19a0fed4fdc5",
   "metadata": {},
   "outputs": [
    {
     "name": "stdout",
     "output_type": "stream",
     "text": [
      "Batch 0 started at 10-03-2022 02:34:50\n",
      "Shape of bert vectors: (31, 768)\n",
      "Shape of final dataframe: (31, 776)\n"
     ]
    }
   ],
   "source": [
    "holdout_vectorized = preprocess_bert(model, tokenizer, holdout, batch_size=1)"
   ]
  },
  {
   "cell_type": "code",
   "execution_count": 16,
   "id": "c4566762-da1d-4f67-8efd-592fade818bf",
   "metadata": {},
   "outputs": [],
   "source": [
    "holdout_vectorized_pca = pca.transform(holdout_vectorized[range(768)])"
   ]
  },
  {
   "cell_type": "code",
   "execution_count": 18,
   "id": "288fd6b1-5928-42f1-82fd-c153ca74a918",
   "metadata": {},
   "outputs": [
    {
     "data": {
      "text/html": [
       "<div>\n",
       "<style scoped>\n",
       "    .dataframe tbody tr th:only-of-type {\n",
       "        vertical-align: middle;\n",
       "    }\n",
       "\n",
       "    .dataframe tbody tr th {\n",
       "        vertical-align: top;\n",
       "    }\n",
       "\n",
       "    .dataframe thead th {\n",
       "        text-align: right;\n",
       "    }\n",
       "</style>\n",
       "<table border=\"1\" class=\"dataframe\">\n",
       "  <thead>\n",
       "    <tr style=\"text-align: right;\">\n",
       "      <th></th>\n",
       "      <th>communication</th>\n",
       "      <th>waiting time</th>\n",
       "      <th>information</th>\n",
       "      <th>user interface</th>\n",
       "      <th>facilities</th>\n",
       "      <th>location</th>\n",
       "      <th>price</th>\n",
       "    </tr>\n",
       "  </thead>\n",
       "  <tbody>\n",
       "    <tr>\n",
       "      <th>0</th>\n",
       "      <td>0</td>\n",
       "      <td>0</td>\n",
       "      <td>1</td>\n",
       "      <td>0</td>\n",
       "      <td>0</td>\n",
       "      <td>0</td>\n",
       "      <td>0</td>\n",
       "    </tr>\n",
       "    <tr>\n",
       "      <th>1</th>\n",
       "      <td>0</td>\n",
       "      <td>1</td>\n",
       "      <td>0</td>\n",
       "      <td>0</td>\n",
       "      <td>0</td>\n",
       "      <td>0</td>\n",
       "      <td>0</td>\n",
       "    </tr>\n",
       "    <tr>\n",
       "      <th>2</th>\n",
       "      <td>0</td>\n",
       "      <td>0</td>\n",
       "      <td>0</td>\n",
       "      <td>0</td>\n",
       "      <td>0</td>\n",
       "      <td>0</td>\n",
       "      <td>0</td>\n",
       "    </tr>\n",
       "    <tr>\n",
       "      <th>3</th>\n",
       "      <td>0</td>\n",
       "      <td>0</td>\n",
       "      <td>0</td>\n",
       "      <td>0</td>\n",
       "      <td>0</td>\n",
       "      <td>0</td>\n",
       "      <td>0</td>\n",
       "    </tr>\n",
       "    <tr>\n",
       "      <th>4</th>\n",
       "      <td>0</td>\n",
       "      <td>0</td>\n",
       "      <td>0</td>\n",
       "      <td>0</td>\n",
       "      <td>0</td>\n",
       "      <td>0</td>\n",
       "      <td>0</td>\n",
       "    </tr>\n",
       "  </tbody>\n",
       "</table>\n",
       "</div>"
      ],
      "text/plain": [
       "   communication  waiting time  information  user interface  facilities  \\\n",
       "0              0             0            1               0           0   \n",
       "1              0             1            0               0           0   \n",
       "2              0             0            0               0           0   \n",
       "3              0             0            0               0           0   \n",
       "4              0             0            0               0           0   \n",
       "\n",
       "   location  price  \n",
       "0         0      0  \n",
       "1         0      0  \n",
       "2         0      0  \n",
       "3         0      0  \n",
       "4         0      0  "
      ]
     },
     "execution_count": 18,
     "metadata": {},
     "output_type": "execute_result"
    }
   ],
   "source": [
    "holdout_prob_df = pd.DataFrame(ovr_svc_bert_untuned_pca.predict(holdout_vectorized_pca), columns=labels)\n",
    "holdout_prob_df.head()"
   ]
  },
  {
   "cell_type": "code",
   "execution_count": 19,
   "id": "db3a5bdf-5199-4ed4-9f4c-75e1f14fb393",
   "metadata": {},
   "outputs": [
    {
     "name": "stdout",
     "output_type": "stream",
     "text": [
      "                precision    recall  f1-score   support\n",
      "\n",
      " communication       1.00      0.40      0.57        10\n",
      "  waiting time       0.73      0.62      0.67        13\n",
      "   information       0.69      0.65      0.67        17\n",
      "user interface       1.00      0.40      0.57         5\n",
      "    facilities       0.00      0.00      0.00         6\n",
      "      location       0.00      0.00      0.00         3\n",
      "         price       1.00      0.50      0.67         4\n",
      "\n",
      "     micro avg       0.77      0.47      0.58        58\n",
      "     macro avg       0.63      0.37      0.45        58\n",
      "  weighted avg       0.69      0.47      0.54        58\n",
      "   samples avg       0.61      0.51      0.53        58\n",
      "\n"
     ]
    }
   ],
   "source": [
    "print(classification_report(holdout[labels], holdout_prob_df, target_names=labels, zero_division=0))"
   ]
  },
  {
   "cell_type": "markdown",
   "id": "7a7cd931-593e-4a65-9024-b6bc62e52c5f",
   "metadata": {},
   "source": [
    "# SVC Predictions with Untuned Bert"
   ]
  },
  {
   "cell_type": "code",
   "execution_count": 20,
   "id": "4f8528a2-1627-463b-8bb3-321b239cfa03",
   "metadata": {},
   "outputs": [],
   "source": [
    "all_vectorized_pca = pca.transform(all_vectorized[range(768)])"
   ]
  },
  {
   "cell_type": "code",
   "execution_count": 21,
   "id": "8466c6f7-b140-41f8-82e9-308db5a6b2d5",
   "metadata": {},
   "outputs": [
    {
     "data": {
      "text/html": [
       "<div>\n",
       "<style scoped>\n",
       "    .dataframe tbody tr th:only-of-type {\n",
       "        vertical-align: middle;\n",
       "    }\n",
       "\n",
       "    .dataframe tbody tr th {\n",
       "        vertical-align: top;\n",
       "    }\n",
       "\n",
       "    .dataframe thead th {\n",
       "        text-align: right;\n",
       "    }\n",
       "</style>\n",
       "<table border=\"1\" class=\"dataframe\">\n",
       "  <thead>\n",
       "    <tr style=\"text-align: right;\">\n",
       "      <th></th>\n",
       "      <th>communication</th>\n",
       "      <th>waiting time</th>\n",
       "      <th>information</th>\n",
       "      <th>user interface</th>\n",
       "      <th>facilities</th>\n",
       "      <th>location</th>\n",
       "      <th>price</th>\n",
       "    </tr>\n",
       "  </thead>\n",
       "  <tbody>\n",
       "    <tr>\n",
       "      <th>0</th>\n",
       "      <td>0</td>\n",
       "      <td>0</td>\n",
       "      <td>1</td>\n",
       "      <td>0</td>\n",
       "      <td>0</td>\n",
       "      <td>0</td>\n",
       "      <td>0</td>\n",
       "    </tr>\n",
       "    <tr>\n",
       "      <th>1</th>\n",
       "      <td>0</td>\n",
       "      <td>1</td>\n",
       "      <td>0</td>\n",
       "      <td>0</td>\n",
       "      <td>0</td>\n",
       "      <td>0</td>\n",
       "      <td>0</td>\n",
       "    </tr>\n",
       "    <tr>\n",
       "      <th>2</th>\n",
       "      <td>0</td>\n",
       "      <td>0</td>\n",
       "      <td>0</td>\n",
       "      <td>0</td>\n",
       "      <td>0</td>\n",
       "      <td>0</td>\n",
       "      <td>0</td>\n",
       "    </tr>\n",
       "    <tr>\n",
       "      <th>3</th>\n",
       "      <td>0</td>\n",
       "      <td>0</td>\n",
       "      <td>0</td>\n",
       "      <td>0</td>\n",
       "      <td>0</td>\n",
       "      <td>0</td>\n",
       "      <td>0</td>\n",
       "    </tr>\n",
       "    <tr>\n",
       "      <th>4</th>\n",
       "      <td>0</td>\n",
       "      <td>0</td>\n",
       "      <td>0</td>\n",
       "      <td>0</td>\n",
       "      <td>0</td>\n",
       "      <td>0</td>\n",
       "      <td>0</td>\n",
       "    </tr>\n",
       "  </tbody>\n",
       "</table>\n",
       "</div>"
      ],
      "text/plain": [
       "   communication  waiting time  information  user interface  facilities  \\\n",
       "0              0             0            1               0           0   \n",
       "1              0             1            0               0           0   \n",
       "2              0             0            0               0           0   \n",
       "3              0             0            0               0           0   \n",
       "4              0             0            0               0           0   \n",
       "\n",
       "   location  price  \n",
       "0         0      0  \n",
       "1         0      0  \n",
       "2         0      0  \n",
       "3         0      0  \n",
       "4         0      0  "
      ]
     },
     "execution_count": 21,
     "metadata": {},
     "output_type": "execute_result"
    }
   ],
   "source": [
    "svc_prob_df = pd.DataFrame(ovr_svc_bert_untuned_pca.predict(all_vectorized_pca), columns=labels)\n",
    "svc_prob_df.head()"
   ]
  },
  {
   "cell_type": "code",
   "execution_count": 23,
   "id": "1d5f8141-f59a-46a6-9517-1e3fb507a0dc",
   "metadata": {},
   "outputs": [],
   "source": [
    "# For those rows not predicted as any category, tag as Others\n",
    "svc_predictions = all_feedback.join(svc_prob_df)\n",
    "svc_predictions['others'] = svc_predictions[labels].max(axis=1)\n",
    "svc_predictions['others'] = svc_predictions['others'].apply(lambda x: 1 if x == 0 else 0)"
   ]
  },
  {
   "cell_type": "code",
   "execution_count": 24,
   "id": "4f2560d0-fb6c-4ef7-941c-ac4186c1f168",
   "metadata": {},
   "outputs": [
    {
     "data": {
      "text/plain": [
       "0    8301\n",
       "1    1858\n",
       "Name: others, dtype: int64"
      ]
     },
     "execution_count": 24,
     "metadata": {},
     "output_type": "execute_result"
    }
   ],
   "source": [
    "svc_predictions.others.value_counts()"
   ]
  },
  {
   "cell_type": "markdown",
   "id": "4eb974b3-453e-47b0-8cbd-7cde4fb7fce3",
   "metadata": {},
   "source": [
    "# Add back short text rows"
   ]
  },
  {
   "cell_type": "code",
   "execution_count": 29,
   "id": "8988c57f-9ae5-459d-9d55-5e47e9c01ac2",
   "metadata": {},
   "outputs": [],
   "source": [
    "short_text[labels] = 0\n",
    "short_text['others'] = 1"
   ]
  },
  {
   "cell_type": "code",
   "execution_count": 31,
   "id": "7315908a-ea98-4783-9bb9-5a281626f61d",
   "metadata": {},
   "outputs": [],
   "source": [
    "short_text.columns = ['country', 'channel', 'Question', 'sequence', \n",
    "       'communication', 'waiting time', \n",
    "       'information', 'user interface', 'price', 'location', 'facilities', 'others']"
   ]
  },
  {
   "cell_type": "code",
   "execution_count": 32,
   "id": "a84b6f78-1360-4f78-977e-ffcc04615482",
   "metadata": {},
   "outputs": [],
   "source": [
    "final_dataframe = pd.concat([svc_predictions, short_text]).reset_index(drop=True)"
   ]
  },
  {
   "cell_type": "markdown",
   "id": "6e1afba0-e38d-421e-af7f-0d24bed15f02",
   "metadata": {},
   "source": [
    "# Get sentiment labels"
   ]
  },
  {
   "cell_type": "code",
   "execution_count": 33,
   "id": "d58eed4c-7fc7-48f4-b7d7-763f38be142f",
   "metadata": {},
   "outputs": [],
   "source": [
    "def get_sentiment_label_facebook(list_of_sent_dicts):\n",
    "    if list_of_sent_dicts['labels'][0] == 'negative':\n",
    "        return 0\n",
    "    else:\n",
    "        return 1"
   ]
  },
  {
   "cell_type": "code",
   "execution_count": 34,
   "id": "a164fa7f-63e1-4848-bca8-3429cf9b3994",
   "metadata": {},
   "outputs": [],
   "source": [
    "classifier = pipeline(\"zero-shot-classification\",\n",
    "                      model=\"facebook/bart-large-mnli\", device=0, framework='pt'\n",
    "                     )"
   ]
  },
  {
   "cell_type": "code",
   "execution_count": 1,
   "id": "bf985123-088a-4871-936c-7bda0eca5c01",
   "metadata": {},
   "outputs": [],
   "source": [
    "final_dataframe['sentiment'] = final_dataframe['sequence'].apply(lambda x: get_sentiment_label_facebook(classifier(x, candidate_labels=['positive', 'negative'], hypothesis_template='The sentiment of this is {}')))"
   ]
  },
  {
   "cell_type": "code",
   "execution_count": 36,
   "id": "4fcffda6-6f60-4a54-8c7b-4536cbfbfec8",
   "metadata": {},
   "outputs": [],
   "source": [
    "final_dataframe.to_csv('../data/final_outputs_bert_untuned.csv', index=False)"
   ]
  }
 ],
 "metadata": {
  "kernelspec": {
   "display_name": "Python 3",
   "language": "python",
   "name": "python3"
  },
  "language_info": {
   "codemirror_mode": {
    "name": "ipython",
    "version": 3
   },
   "file_extension": ".py",
   "mimetype": "text/x-python",
   "name": "python",
   "nbconvert_exporter": "python",
   "pygments_lexer": "ipython3",
   "version": "3.8.8"
  }
 },
 "nbformat": 4,
 "nbformat_minor": 5
}
