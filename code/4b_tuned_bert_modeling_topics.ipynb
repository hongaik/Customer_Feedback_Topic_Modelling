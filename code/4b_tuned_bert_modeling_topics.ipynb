{
 "cells": [
  {
   "cell_type": "code",
   "execution_count": 1,
   "id": "eefca807-4f41-4ab7-aec5-8b82102af590",
   "metadata": {
    "tags": []
   },
   "outputs": [],
   "source": [
    "import pandas as pd, numpy as np, seaborn as sns, matplotlib.pyplot as plt\n",
    "from datetime import datetime\n",
    "from sklearn.svm import SVC\n",
    "from sklearn.ensemble import RandomForestClassifier\n",
    "from sklearn.model_selection import train_test_split, GridSearchCV, StratifiedKFold\n",
    "from sklearn.neural_network import MLPClassifier\n",
    "from sklearn.linear_model import LogisticRegression\n",
    "from sklearn.multiclass import OneVsRestClassifier\n",
    "from sklearn.metrics import classification_report, confusion_matrix, cohen_kappa_score, f1_score, precision_score, recall_score\n",
    "from sklearn.utils import shuffle\n",
    "from transformers import pipeline\n",
    "from gensim.models.keyedvectors import KeyedVectors\n",
    "import pickle, json\n",
    "from utils.helpers import *\n",
    "from transformers import BertTokenizer, BertModel\n",
    "import torch"
   ]
  },
  {
   "cell_type": "code",
   "execution_count": 1,
   "id": "3007955a-7d81-4a33-aac1-eb033ed7fe43",
   "metadata": {},
   "outputs": [],
   "source": [
    "handlabel_augmented = pd.read_csv('../data/handlabel_augmented.csv').dropna().reset_index(drop=True)"
   ]
  },
  {
   "cell_type": "code",
   "execution_count": 3,
   "id": "0591c198-d647-4c32-b417-607ef1573bf4",
   "metadata": {},
   "outputs": [
    {
     "data": {
      "text/plain": [
       "(3087, 9)"
      ]
     },
     "execution_count": 3,
     "metadata": {},
     "output_type": "execute_result"
    }
   ],
   "source": [
    "handlabel_augmented.shape"
   ]
  },
  {
   "cell_type": "code",
   "execution_count": 4,
   "id": "1b32788d-630d-4391-91d3-bf2a866f3bc2",
   "metadata": {},
   "outputs": [],
   "source": [
    "labels = ['communication', 'waiting time',\n",
    "        'information', 'user interface',\n",
    "       'facilities', 'location', 'price']"
   ]
  },
  {
   "cell_type": "markdown",
   "id": "9492d20e-1e8a-458a-bf7a-4a00a5f2af2a",
   "metadata": {},
   "source": [
    "# Load BERT"
   ]
  },
  {
   "cell_type": "code",
   "execution_count": 5,
   "id": "47c2adc9-28ba-488a-a22c-4a5023f865dc",
   "metadata": {},
   "outputs": [
    {
     "name": "stderr",
     "output_type": "stream",
     "text": [
      "Some weights of the model checkpoint at ../models/finetuned_bert/ were not used when initializing BertModel: ['cls.predictions.bias', 'cls.predictions.transform.dense.bias', 'cls.predictions.decoder.weight', 'cls.predictions.transform.dense.weight', 'cls.predictions.transform.LayerNorm.weight', 'cls.predictions.transform.LayerNorm.bias', 'cls.predictions.decoder.bias']\n",
      "- This IS expected if you are initializing BertModel from the checkpoint of a model trained on another task or with another architecture (e.g. initializing a BertForSequenceClassification model from a BertForPreTraining model).\n",
      "- This IS NOT expected if you are initializing BertModel from the checkpoint of a model that you expect to be exactly identical (initializing a BertForSequenceClassification model from a BertForSequenceClassification model).\n",
      "Some weights of BertModel were not initialized from the model checkpoint at ../models/finetuned_bert/ and are newly initialized: ['bert.pooler.dense.bias', 'bert.pooler.dense.weight']\n",
      "You should probably TRAIN this model on a down-stream task to be able to use it for predictions and inference.\n"
     ]
    }
   ],
   "source": [
    "tokenizer = BertTokenizer.from_pretrained('bert-base-uncased')\n",
    "model = BertModel.from_pretrained(\"../models/finetuned_bert/\")"
   ]
  },
  {
   "cell_type": "code",
   "execution_count": 6,
   "id": "ce5410eb-79d2-411d-8541-553dfca19889",
   "metadata": {
    "scrolled": true,
    "tags": []
   },
   "outputs": [
    {
     "name": "stdout",
     "output_type": "stream",
     "text": [
      "Batch 0 started at 09-03-2022 18:56:43\n",
      "Batch 100 started at 09-03-2022 18:59:21\n",
      "Batch 200 started at 09-03-2022 19:01:42\n",
      "Batch 300 started at 09-03-2022 19:04:06\n",
      "Batch 400 started at 09-03-2022 19:06:31\n",
      "Batch 500 started at 09-03-2022 19:08:57\n",
      "Batch 600 started at 09-03-2022 19:11:20\n",
      "Batch 700 started at 09-03-2022 19:13:46\n",
      "Batch 800 started at 09-03-2022 19:16:13\n",
      "Batch 900 started at 09-03-2022 19:18:38\n",
      "Batch 1000 started at 09-03-2022 19:21:04\n",
      "Batch 1100 started at 09-03-2022 19:23:31\n",
      "Batch 1200 started at 09-03-2022 19:25:57\n",
      "Batch 1300 started at 09-03-2022 19:28:22\n",
      "Batch 1400 started at 09-03-2022 19:30:48\n",
      "Batch 1500 started at 09-03-2022 19:33:14\n",
      "Batch 1600 started at 09-03-2022 19:35:44\n",
      "Batch 1700 started at 09-03-2022 19:38:07\n",
      "Batch 1800 started at 09-03-2022 19:40:29\n",
      "Batch 1900 started at 09-03-2022 19:42:52\n",
      "Batch 2000 started at 09-03-2022 19:45:13\n",
      "Batch 2100 started at 09-03-2022 19:47:35\n",
      "Batch 2200 started at 09-03-2022 19:49:58\n",
      "Batch 2300 started at 09-03-2022 19:52:23\n",
      "Batch 2400 started at 09-03-2022 19:54:46\n",
      "Batch 2500 started at 09-03-2022 19:57:29\n",
      "Batch 2600 started at 09-03-2022 20:00:56\n",
      "Batch 2700 started at 09-03-2022 20:04:23\n",
      "Batch 2800 started at 09-03-2022 20:07:49\n",
      "Batch 2900 started at 09-03-2022 20:11:20\n",
      "Batch 3000 started at 09-03-2022 20:14:51\n",
      "Shape of bert vectors: (3087, 768)\n",
      "Shape of final dataframe: (3087, 777)\n"
     ]
    }
   ],
   "source": [
    "# Vectorize text\n",
    "handlabel_vectorized = preprocess_bert(model, tokenizer, handlabel_augmented, batch_size=1)"
   ]
  },
  {
   "cell_type": "code",
   "execution_count": 7,
   "id": "9c89793b-940d-428e-a369-56c877402f40",
   "metadata": {},
   "outputs": [],
   "source": [
    "handlabel_vectorized.to_csv('../data/tuned_bert_handlabel_augmented.csv', index=False)"
   ]
  },
  {
   "cell_type": "code",
   "execution_count": 8,
   "id": "54ebca0c-1eac-42b7-a25c-c200c4f56b2e",
   "metadata": {},
   "outputs": [],
   "source": [
    "X = handlabel_vectorized[range(768)]\n",
    "y = handlabel_vectorized[labels]"
   ]
  },
  {
   "cell_type": "markdown",
   "id": "fde78481-bdac-4ebc-95fd-1e23cc0e3b83",
   "metadata": {},
   "source": [
    "# Use original text as test set, synthetic text as training set"
   ]
  },
  {
   "cell_type": "code",
   "execution_count": 9,
   "id": "df946dc3-d3e8-4dbc-86a5-149babe83d8b",
   "metadata": {},
   "outputs": [],
   "source": [
    "X_train = X.loc[227:]\n",
    "y_train = y.loc[227:]\n",
    "X_test = X.loc[:226]\n",
    "y_test = y.loc[:226]"
   ]
  },
  {
   "cell_type": "code",
   "execution_count": 10,
   "id": "e9c7da3b-1403-4ca4-8ef6-4b80854dc0cc",
   "metadata": {},
   "outputs": [
    {
     "data": {
      "text/plain": [
       "Text(0.5, 1.0, 'y_test')"
      ]
     },
     "execution_count": 10,
     "metadata": {},
     "output_type": "execute_result"
    },
    {
     "data": {
      "image/png": "[encoded data removed]",
      "text/plain": [
       "<Figure size 864x288 with 2 Axes>"
      ]
     },
     "metadata": {
      "needs_background": "light"
     },
     "output_type": "display_data"
    }
   ],
   "source": [
    "fig, ax = plt.subplots(ncols=2, figsize=(12,4), constrained_layout=True)\n",
    "\n",
    "y_train[labels].sum().sort_values().plot(kind='barh', ax=ax[0])\n",
    "ax[0].set_title('y_train')\n",
    "\n",
    "y_test[labels].sum().sort_values().plot(kind='barh', ax=ax[1])\n",
    "ax[1].set_title('y_test')"
   ]
  },
  {
   "cell_type": "code",
   "execution_count": 11,
   "id": "10c93a17-39e6-4282-9e02-a0f19d28847b",
   "metadata": {},
   "outputs": [
    {
     "data": {
      "text/plain": [
       "(227, 7)"
      ]
     },
     "execution_count": 11,
     "metadata": {},
     "output_type": "execute_result"
    }
   ],
   "source": [
    "y_test.shape"
   ]
  },
  {
   "cell_type": "code",
   "execution_count": 12,
   "id": "6d31b52a-6a95-4e1c-92cf-7c82cced83cb",
   "metadata": {},
   "outputs": [
    {
     "data": {
      "text/plain": [
       "(2860, 7)"
      ]
     },
     "execution_count": 12,
     "metadata": {},
     "output_type": "execute_result"
    }
   ],
   "source": [
    "y_train.shape"
   ]
  },
  {
   "cell_type": "code",
   "execution_count": 13,
   "id": "1fdb0a73-2179-4510-9cc6-8c420220b027",
   "metadata": {},
   "outputs": [],
   "source": [
    "ovr_svc = OneVsRestClassifier(SVC(probability=True, class_weight='balanced'))\n",
    "ovr_rfc = OneVsRestClassifier(RandomForestClassifier(max_depth=5, class_weight='balanced_subsample'))\n",
    "ovr_mlp = OneVsRestClassifier(MLPClassifier(early_stopping=True, hidden_layer_sizes=(64,32,8)))"
   ]
  },
  {
   "cell_type": "code",
   "execution_count": 14,
   "id": "83fd0dc5-2440-4974-bd37-8efa6150bbee",
   "metadata": {},
   "outputs": [
    {
     "name": "stdout",
     "output_type": "stream",
     "text": [
      "------------TRAINING DATASET RESULTS (OneVsRestClassifier(estimator=SVC(class_weight='balanced', probability=True)))------------\n",
      "\n",
      "\n",
      "                precision    recall  f1-score   support\n",
      "\n",
      " communication       0.69      0.84      0.76       861\n",
      "  waiting time       0.70      0.81      0.76      1016\n",
      "   information       0.71      0.87      0.78       863\n",
      "user interface       0.48      0.90      0.62       336\n",
      "    facilities       0.67      0.94      0.78       387\n",
      "      location       0.52      0.96      0.67       308\n",
      "         price       0.74      0.91      0.82       535\n",
      "\n",
      "     micro avg       0.66      0.87      0.75      4306\n",
      "     macro avg       0.64      0.89      0.74      4306\n",
      "  weighted avg       0.67      0.87      0.76      4306\n",
      "   samples avg       0.67      0.86      0.73      4306\n",
      "\n",
      "------------TEST DATASET RESULTS (OneVsRestClassifier(estimator=SVC(class_weight='balanced', probability=True)))------------\n",
      "\n",
      "\n",
      "                precision    recall  f1-score   support\n",
      "\n",
      " communication       0.59      0.82      0.69        57\n",
      "  waiting time       0.60      0.94      0.73        70\n",
      "   information       0.69      0.85      0.76        54\n",
      "user interface       0.43      0.96      0.60        24\n",
      "    facilities       0.58      1.00      0.73        18\n",
      "      location       0.79      1.00      0.88        11\n",
      "         price       0.57      1.00      0.72        21\n",
      "\n",
      "     micro avg       0.59      0.91      0.72       255\n",
      "     macro avg       0.61      0.94      0.73       255\n",
      "  weighted avg       0.60      0.91      0.72       255\n",
      "   samples avg       0.60      0.77      0.66       255\n",
      "\n"
     ]
    }
   ],
   "source": [
    "get_scores(ovr_svc, X_train, y_train, X_test, y_test)"
   ]
  },
  {
   "cell_type": "code",
   "execution_count": 15,
   "id": "df20d8bf-2083-48ae-87e3-c0dd67992dc8",
   "metadata": {},
   "outputs": [
    {
     "name": "stdout",
     "output_type": "stream",
     "text": [
      "------------TRAINING DATASET RESULTS (OneVsRestClassifier(estimator=RandomForestClassifier(class_weight='balanced_subsample',\n",
      "                                                     max_depth=5)))------------\n",
      "\n",
      "\n",
      "                precision    recall  f1-score   support\n",
      "\n",
      " communication       0.88      0.87      0.87       861\n",
      "  waiting time       0.85      0.94      0.89      1016\n",
      "   information       0.82      0.88      0.85       863\n",
      "user interface       0.79      0.95      0.86       336\n",
      "    facilities       0.96      0.98      0.97       387\n",
      "      location       0.77      0.99      0.87       308\n",
      "         price       0.94      0.94      0.94       535\n",
      "\n",
      "     micro avg       0.86      0.92      0.89      4306\n",
      "     macro avg       0.86      0.94      0.89      4306\n",
      "  weighted avg       0.86      0.92      0.89      4306\n",
      "   samples avg       0.84      0.90      0.86      4306\n",
      "\n",
      "------------TEST DATASET RESULTS (OneVsRestClassifier(estimator=RandomForestClassifier(class_weight='balanced_subsample',\n",
      "                                                     max_depth=5)))------------\n",
      "\n",
      "\n",
      "                precision    recall  f1-score   support\n",
      "\n",
      " communication       0.80      0.72      0.76        57\n",
      "  waiting time       0.64      0.90      0.75        70\n",
      "   information       0.78      0.67      0.72        54\n",
      "user interface       0.75      0.75      0.75        24\n",
      "    facilities       0.70      0.89      0.78        18\n",
      "      location       0.88      0.64      0.74        11\n",
      "         price       0.73      0.90      0.81        21\n",
      "\n",
      "     micro avg       0.72      0.78      0.75       255\n",
      "     macro avg       0.75      0.78      0.76       255\n",
      "  weighted avg       0.74      0.78      0.75       255\n",
      "   samples avg       0.61      0.65      0.62       255\n",
      "\n"
     ]
    }
   ],
   "source": [
    "get_scores(ovr_rfc, X_train, y_train, X_test, y_test)"
   ]
  },
  {
   "cell_type": "code",
   "execution_count": 16,
   "id": "111fdb63-28db-4fcf-8432-f67d2daba8df",
   "metadata": {},
   "outputs": [
    {
     "name": "stdout",
     "output_type": "stream",
     "text": [
      "------------TRAINING DATASET RESULTS (OneVsRestClassifier(estimator=MLPClassifier(early_stopping=True,\n",
      "                                            hidden_layer_sizes=(64, 32, 8))))------------\n",
      "\n",
      "\n",
      "                precision    recall  f1-score   support\n",
      "\n",
      " communication       0.86      0.82      0.84       861\n",
      "  waiting time       0.88      0.66      0.76      1016\n",
      "   information       0.92      0.74      0.82       863\n",
      "user interface       0.78      0.81      0.79       336\n",
      "    facilities       0.93      0.76      0.84       387\n",
      "      location       0.00      0.00      0.00       308\n",
      "         price       0.99      0.84      0.91       535\n",
      "\n",
      "     micro avg       0.89      0.70      0.79      4306\n",
      "     macro avg       0.76      0.66      0.71      4306\n",
      "  weighted avg       0.83      0.70      0.76      4306\n",
      "   samples avg       0.74      0.69      0.70      4306\n",
      "\n",
      "------------TEST DATASET RESULTS (OneVsRestClassifier(estimator=MLPClassifier(early_stopping=True,\n",
      "                                            hidden_layer_sizes=(64, 32, 8))))------------\n",
      "\n",
      "\n",
      "                precision    recall  f1-score   support\n",
      "\n",
      " communication       0.84      0.84      0.84        57\n",
      "  waiting time       0.79      0.83      0.81        70\n",
      "   information       0.82      0.76      0.79        54\n",
      "user interface       0.74      0.83      0.78        24\n",
      "    facilities       0.94      0.94      0.94        18\n",
      "      location       0.00      0.00      0.00        11\n",
      "         price       1.00      0.95      0.98        21\n",
      "\n",
      "     micro avg       0.83      0.80      0.82       255\n",
      "     macro avg       0.73      0.74      0.74       255\n",
      "  weighted avg       0.80      0.80      0.80       255\n",
      "   samples avg       0.68      0.69      0.68       255\n",
      "\n"
     ]
    }
   ],
   "source": [
    "get_scores(ovr_mlp, X_train, y_train, X_test, y_test)"
   ]
  },
  {
   "cell_type": "markdown",
   "id": "91072931-d460-4ee3-843a-6eb936445061",
   "metadata": {},
   "source": [
    "# Apply PCA to reduce dimensions"
   ]
  },
  {
   "cell_type": "code",
   "execution_count": 17,
   "id": "a4462815-d1e7-4cb6-aa4f-78869ecb3a18",
   "metadata": {},
   "outputs": [],
   "source": [
    "from sklearn.decomposition import PCA"
   ]
  },
  {
   "cell_type": "code",
   "execution_count": 18,
   "id": "80e65b18-ad49-47ff-8264-42654e5d7c1f",
   "metadata": {},
   "outputs": [],
   "source": [
    "pca = PCA(n_components=768)\n",
    "\n",
    "p_comp = pca.fit_transform(X_train)"
   ]
  },
  {
   "cell_type": "code",
   "execution_count": 19,
   "id": "8b210077-e5ee-4b1a-90b5-9a1f8a48feca",
   "metadata": {},
   "outputs": [
    {
     "data": {
      "text/plain": [
       "[<matplotlib.lines.Line2D at 0x273021f7e80>]"
      ]
     },
     "execution_count": 19,
     "metadata": {},
     "output_type": "execute_result"
    },
    {
     "data": {
      "image/png": "[encoded data removed]",
      "text/plain": [
       "<Figure size 432x288 with 1 Axes>"
      ]
     },
     "metadata": {
      "needs_background": "light"
     },
     "output_type": "display_data"
    }
   ],
   "source": [
    "plt.plot(np.cumsum(pca.explained_variance_ratio_))"
   ]
  },
  {
   "cell_type": "code",
   "execution_count": 20,
   "id": "33cddc3f-2b7d-4795-8c18-8d64faba704f",
   "metadata": {},
   "outputs": [
    {
     "data": {
      "text/plain": [
       "205"
      ]
     },
     "execution_count": 20,
     "metadata": {},
     "output_type": "execute_result"
    }
   ],
   "source": [
    "np.sum(np.cumsum(pca.explained_variance_ratio_) <= 0.95)"
   ]
  },
  {
   "cell_type": "code",
   "execution_count": 21,
   "id": "5d21848f-81d8-416f-98ad-6618aa4b6fe3",
   "metadata": {},
   "outputs": [],
   "source": [
    "pca = PCA(n_components=210)\n",
    "\n",
    "X_train_pca = pca.fit_transform(X_train)\n",
    "X_test_pca = pca.transform(X_test)"
   ]
  },
  {
   "cell_type": "markdown",
   "id": "c3bba4c0-72aa-4c6a-aabc-148aca321181",
   "metadata": {},
   "source": [
    "# Fit on PCA transformed"
   ]
  },
  {
   "cell_type": "code",
   "execution_count": 22,
   "id": "40dccbf6-c90d-4cbf-b778-00d167019a94",
   "metadata": {
    "tags": []
   },
   "outputs": [
    {
     "name": "stdout",
     "output_type": "stream",
     "text": [
      "------------TRAINING DATASET RESULTS (OneVsRestClassifier(estimator=SVC(class_weight='balanced', probability=True)))------------\n",
      "\n",
      "\n",
      "                precision    recall  f1-score   support\n",
      "\n",
      " communication       0.97      0.99      0.98       861\n",
      "  waiting time       0.94      0.99      0.96      1016\n",
      "   information       0.96      0.99      0.98       863\n",
      "user interface       0.97      1.00      0.98       336\n",
      "    facilities       0.98      1.00      0.99       387\n",
      "      location       1.00      1.00      1.00       308\n",
      "         price       0.99      0.99      0.99       535\n",
      "\n",
      "     micro avg       0.96      0.99      0.98      4306\n",
      "     macro avg       0.97      0.99      0.98      4306\n",
      "  weighted avg       0.96      0.99      0.98      4306\n",
      "   samples avg       0.97      0.99      0.98      4306\n",
      "\n",
      "------------TEST DATASET RESULTS (OneVsRestClassifier(estimator=SVC(class_weight='balanced', probability=True)))------------\n",
      "\n",
      "\n",
      "                precision    recall  f1-score   support\n",
      "\n",
      " communication       0.87      0.95      0.91        57\n",
      "  waiting time       0.71      1.00      0.83        70\n",
      "   information       0.87      0.96      0.91        54\n",
      "user interface       0.74      0.96      0.84        24\n",
      "    facilities       1.00      1.00      1.00        18\n",
      "      location       1.00      1.00      1.00        11\n",
      "         price       1.00      1.00      1.00        21\n",
      "\n",
      "     micro avg       0.83      0.98      0.90       255\n",
      "     macro avg       0.88      0.98      0.93       255\n",
      "  weighted avg       0.84      0.98      0.90       255\n",
      "   samples avg       0.80      0.84      0.81       255\n",
      "\n"
     ]
    }
   ],
   "source": [
    "get_scores(ovr_svc, X_train_pca, y_train, X_test_pca, y_test)"
   ]
  },
  {
   "cell_type": "code",
   "execution_count": 23,
   "id": "16fed5a6-3c00-4b86-aff9-70190990a9c8",
   "metadata": {
    "tags": []
   },
   "outputs": [
    {
     "name": "stdout",
     "output_type": "stream",
     "text": [
      "------------TRAINING DATASET RESULTS (OneVsRestClassifier(estimator=RandomForestClassifier(class_weight='balanced_subsample',\n",
      "                                                     max_depth=5)))------------\n",
      "\n",
      "\n",
      "                precision    recall  f1-score   support\n",
      "\n",
      " communication       0.93      0.92      0.93       861\n",
      "  waiting time       0.94      0.94      0.94      1016\n",
      "   information       0.92      0.92      0.92       863\n",
      "user interface       0.95      0.96      0.95       336\n",
      "    facilities       0.97      0.96      0.96       387\n",
      "      location       0.98      0.99      0.98       308\n",
      "         price       0.95      0.95      0.95       535\n",
      "\n",
      "     micro avg       0.94      0.94      0.94      4306\n",
      "     macro avg       0.95      0.95      0.95      4306\n",
      "  weighted avg       0.94      0.94      0.94      4306\n",
      "   samples avg       0.91      0.93      0.91      4306\n",
      "\n",
      "------------TEST DATASET RESULTS (OneVsRestClassifier(estimator=RandomForestClassifier(class_weight='balanced_subsample',\n",
      "                                                     max_depth=5)))------------\n",
      "\n",
      "\n",
      "                precision    recall  f1-score   support\n",
      "\n",
      " communication       0.66      0.81      0.72        57\n",
      "  waiting time       0.66      0.91      0.77        70\n",
      "   information       0.72      0.81      0.77        54\n",
      "user interface       0.90      0.79      0.84        24\n",
      "    facilities       0.94      0.89      0.91        18\n",
      "      location       0.91      0.91      0.91        11\n",
      "         price       0.86      0.90      0.88        21\n",
      "\n",
      "     micro avg       0.73      0.85      0.79       255\n",
      "     macro avg       0.81      0.86      0.83       255\n",
      "  weighted avg       0.74      0.85      0.79       255\n",
      "   samples avg       0.66      0.73      0.67       255\n",
      "\n"
     ]
    }
   ],
   "source": [
    "get_scores(ovr_rfc, X_train_pca, y_train, X_test_pca, y_test)"
   ]
  },
  {
   "cell_type": "code",
   "execution_count": 24,
   "id": "bd03a216-b30d-4484-bf6d-ea2bc0d206a5",
   "metadata": {
    "tags": []
   },
   "outputs": [
    {
     "name": "stdout",
     "output_type": "stream",
     "text": [
      "------------TRAINING DATASET RESULTS (OneVsRestClassifier(estimator=MLPClassifier(early_stopping=True,\n",
      "                                            hidden_layer_sizes=(64, 32, 8))))------------\n",
      "\n",
      "\n",
      "                precision    recall  f1-score   support\n",
      "\n",
      " communication       0.98      0.96      0.97       861\n",
      "  waiting time       0.99      0.98      0.99      1016\n",
      "   information       0.99      0.99      0.99       863\n",
      "user interface       0.99      0.99      0.99       336\n",
      "    facilities       0.99      0.94      0.97       387\n",
      "      location       0.99      0.99      0.99       308\n",
      "         price       1.00      0.99      0.99       535\n",
      "\n",
      "     micro avg       0.99      0.98      0.98      4306\n",
      "     macro avg       0.99      0.98      0.98      4306\n",
      "  weighted avg       0.99      0.98      0.98      4306\n",
      "   samples avg       0.97      0.97      0.97      4306\n",
      "\n",
      "------------TEST DATASET RESULTS (OneVsRestClassifier(estimator=MLPClassifier(early_stopping=True,\n",
      "                                            hidden_layer_sizes=(64, 32, 8))))------------\n",
      "\n",
      "\n",
      "                precision    recall  f1-score   support\n",
      "\n",
      " communication       0.89      0.95      0.92        57\n",
      "  waiting time       0.79      1.00      0.88        70\n",
      "   information       0.89      0.94      0.92        54\n",
      "user interface       0.88      0.88      0.88        24\n",
      "    facilities       0.95      1.00      0.97        18\n",
      "      location       0.92      1.00      0.96        11\n",
      "         price       0.88      1.00      0.93        21\n",
      "\n",
      "     micro avg       0.86      0.96      0.91       255\n",
      "     macro avg       0.88      0.97      0.92       255\n",
      "  weighted avg       0.86      0.96      0.91       255\n",
      "   samples avg       0.80      0.82      0.81       255\n",
      "\n"
     ]
    }
   ],
   "source": [
    "get_scores(ovr_mlp, X_train_pca, y_train, X_test_pca, y_test)"
   ]
  },
  {
   "cell_type": "markdown",
   "id": "3dd10aff-360e-40fa-8f1e-41643c389d5b",
   "metadata": {},
   "source": [
    "# Save best model"
   ]
  },
  {
   "cell_type": "code",
   "execution_count": 25,
   "id": "84b5a703-ca2e-4ed1-8b45-0f3e1b050b2b",
   "metadata": {},
   "outputs": [],
   "source": [
    "ovr_svc_bert_tuned_pca = OneVsRestClassifier(SVC(probability=True, class_weight='balanced'))"
   ]
  },
  {
   "cell_type": "code",
   "execution_count": 26,
   "id": "a0c7ec2e-33fa-4990-8fdc-606887704387",
   "metadata": {},
   "outputs": [
    {
     "name": "stdout",
     "output_type": "stream",
     "text": [
      "------------TRAINING DATASET RESULTS (OneVsRestClassifier(estimator=SVC(class_weight='balanced', probability=True)))------------\n",
      "\n",
      "\n",
      "                precision    recall  f1-score   support\n",
      "\n",
      " communication       0.97      0.99      0.98       861\n",
      "  waiting time       0.94      0.99      0.96      1016\n",
      "   information       0.96      0.99      0.98       863\n",
      "user interface       0.97      1.00      0.98       336\n",
      "    facilities       0.98      1.00      0.99       387\n",
      "      location       1.00      1.00      1.00       308\n",
      "         price       0.99      0.99      0.99       535\n",
      "\n",
      "     micro avg       0.96      0.99      0.98      4306\n",
      "     macro avg       0.97      0.99      0.98      4306\n",
      "  weighted avg       0.96      0.99      0.98      4306\n",
      "   samples avg       0.97      0.99      0.98      4306\n",
      "\n",
      "------------TEST DATASET RESULTS (OneVsRestClassifier(estimator=SVC(class_weight='balanced', probability=True)))------------\n",
      "\n",
      "\n",
      "                precision    recall  f1-score   support\n",
      "\n",
      " communication       0.87      0.95      0.91        57\n",
      "  waiting time       0.71      1.00      0.83        70\n",
      "   information       0.87      0.96      0.91        54\n",
      "user interface       0.74      0.96      0.84        24\n",
      "    facilities       1.00      1.00      1.00        18\n",
      "      location       1.00      1.00      1.00        11\n",
      "         price       1.00      1.00      1.00        21\n",
      "\n",
      "     micro avg       0.83      0.98      0.90       255\n",
      "     macro avg       0.88      0.98      0.93       255\n",
      "  weighted avg       0.84      0.98      0.90       255\n",
      "   samples avg       0.80      0.84      0.81       255\n",
      "\n"
     ]
    }
   ],
   "source": [
    "get_scores(ovr_svc_bert_tuned_pca, X_train_pca, y_train, X_test_pca, y_test)"
   ]
  },
  {
   "cell_type": "code",
   "execution_count": 27,
   "id": "946785f3-f199-49ad-bc6e-212b9159e0ba",
   "metadata": {},
   "outputs": [],
   "source": [
    "pickle.dump(ovr_svc_bert_tuned_pca, open('../models/bert_tuned_ovr_svc.sav', 'wb'))"
   ]
  },
  {
   "cell_type": "code",
   "execution_count": 28,
   "id": "9401ae5d-b69d-4d8d-bb1f-f242399b7fc2",
   "metadata": {},
   "outputs": [],
   "source": [
    "pickle.dump(pca, open('../models/pca_bert_tuned.sav', 'wb'))"
   ]
  }
 ],
 "metadata": {
  "kernelspec": {
   "display_name": "Python 3",
   "language": "python",
   "name": "python3"
  },
  "language_info": {
   "codemirror_mode": {
    "name": "ipython",
    "version": 3
   },
   "file_extension": ".py",
   "mimetype": "text/x-python",
   "name": "python",
   "nbconvert_exporter": "python",
   "pygments_lexer": "ipython3",
   "version": "3.8.8"
  }
 },
 "nbformat": 4,
 "nbformat_minor": 5
}
