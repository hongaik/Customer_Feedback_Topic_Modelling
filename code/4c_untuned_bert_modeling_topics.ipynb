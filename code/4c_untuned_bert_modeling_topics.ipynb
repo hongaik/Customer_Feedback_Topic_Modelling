{
 "cells": [
  {
   "cell_type": "code",
   "execution_count": 1,
   "id": "eefca807-4f41-4ab7-aec5-8b82102af590",
   "metadata": {
    "tags": []
   },
   "outputs": [],
   "source": [
    "import pandas as pd, numpy as np, seaborn as sns, matplotlib.pyplot as plt\n",
    "from datetime import datetime\n",
    "from sklearn.svm import SVC\n",
    "from sklearn.ensemble import RandomForestClassifier\n",
    "from sklearn.model_selection import train_test_split, GridSearchCV, StratifiedKFold\n",
    "from sklearn.neural_network import MLPClassifier\n",
    "from sklearn.linear_model import LogisticRegression\n",
    "from sklearn.multiclass import OneVsRestClassifier\n",
    "from sklearn.metrics import classification_report, confusion_matrix, cohen_kappa_score, f1_score, precision_score, recall_score\n",
    "from sklearn.utils import shuffle\n",
    "from transformers import pipeline\n",
    "from gensim.models.keyedvectors import KeyedVectors\n",
    "import pickle, json\n",
    "from utils.helpers import *\n",
    "from transformers import BertTokenizer, BertModel\n",
    "import torch"
   ]
  },
  {
   "cell_type": "code",
   "execution_count": 1,
   "id": "3007955a-7d81-4a33-aac1-eb033ed7fe43",
   "metadata": {},
   "outputs": [],
   "source": [
    "handlabel_augmented = pd.read_csv('../data/handlabel_augmented.csv').dropna().reset_index(drop=True)"
   ]
  },
  {
   "cell_type": "code",
   "execution_count": 3,
   "id": "0591c198-d647-4c32-b417-607ef1573bf4",
   "metadata": {},
   "outputs": [
    {
     "data": {
      "text/plain": [
       "(3087, 9)"
      ]
     },
     "execution_count": 3,
     "metadata": {},
     "output_type": "execute_result"
    }
   ],
   "source": [
    "handlabel_augmented.shape"
   ]
  },
  {
   "cell_type": "code",
   "execution_count": 4,
   "id": "1b32788d-630d-4391-91d3-bf2a866f3bc2",
   "metadata": {},
   "outputs": [],
   "source": [
    "labels = ['communication', 'waiting time',\n",
    "       'information', 'user interface',\n",
    "       'facilities', 'location', 'price']"
   ]
  },
  {
   "cell_type": "markdown",
   "id": "9492d20e-1e8a-458a-bf7a-4a00a5f2af2a",
   "metadata": {},
   "source": [
    "# Load BERT"
   ]
  },
  {
   "cell_type": "code",
   "execution_count": 5,
   "id": "47c2adc9-28ba-488a-a22c-4a5023f865dc",
   "metadata": {},
   "outputs": [
    {
     "name": "stderr",
     "output_type": "stream",
     "text": [
      "Some weights of the model checkpoint at bert-base-uncased were not used when initializing BertModel: ['cls.seq_relationship.weight', 'cls.predictions.transform.dense.bias', 'cls.predictions.transform.LayerNorm.bias', 'cls.seq_relationship.bias', 'cls.predictions.transform.LayerNorm.weight', 'cls.predictions.decoder.weight', 'cls.predictions.transform.dense.weight', 'cls.predictions.bias']\n",
      "- This IS expected if you are initializing BertModel from the checkpoint of a model trained on another task or with another architecture (e.g. initializing a BertForSequenceClassification model from a BertForPreTraining model).\n",
      "- This IS NOT expected if you are initializing BertModel from the checkpoint of a model that you expect to be exactly identical (initializing a BertForSequenceClassification model from a BertForSequenceClassification model).\n"
     ]
    }
   ],
   "source": [
    "tokenizer = BertTokenizer.from_pretrained('bert-base-uncased')\n",
    "model = BertModel.from_pretrained('bert-base-uncased')"
   ]
  },
  {
   "cell_type": "code",
   "execution_count": 6,
   "id": "ce5410eb-79d2-411d-8541-553dfca19889",
   "metadata": {},
   "outputs": [
    {
     "name": "stdout",
     "output_type": "stream",
     "text": [
      "Batch 0 started at 09-03-2022 18:57:17\n",
      "Batch 100 started at 09-03-2022 18:59:57\n",
      "Batch 200 started at 09-03-2022 19:02:19\n",
      "Batch 300 started at 09-03-2022 19:04:44\n",
      "Batch 400 started at 09-03-2022 19:07:09\n",
      "Batch 500 started at 09-03-2022 19:09:35\n",
      "Batch 600 started at 09-03-2022 19:12:00\n",
      "Batch 700 started at 09-03-2022 19:14:26\n",
      "Batch 800 started at 09-03-2022 19:16:54\n",
      "Batch 900 started at 09-03-2022 19:19:19\n",
      "Batch 1000 started at 09-03-2022 19:21:45\n",
      "Batch 1100 started at 09-03-2022 19:24:14\n",
      "Batch 1200 started at 09-03-2022 19:26:39\n",
      "Batch 1300 started at 09-03-2022 19:29:05\n",
      "Batch 1400 started at 09-03-2022 19:31:31\n",
      "Batch 1500 started at 09-03-2022 19:33:57\n",
      "Batch 1600 started at 09-03-2022 19:36:28\n",
      "Batch 1700 started at 09-03-2022 19:38:51\n",
      "Batch 1800 started at 09-03-2022 19:41:12\n",
      "Batch 1900 started at 09-03-2022 19:43:35\n",
      "Batch 2000 started at 09-03-2022 19:45:55\n",
      "Batch 2100 started at 09-03-2022 19:48:19\n",
      "Batch 2200 started at 09-03-2022 19:50:43\n",
      "Batch 2300 started at 09-03-2022 19:53:07\n",
      "Batch 2400 started at 09-03-2022 19:55:27\n",
      "Batch 2500 started at 09-03-2022 19:58:32\n",
      "Batch 2600 started at 09-03-2022 20:02:00\n",
      "Batch 2700 started at 09-03-2022 20:05:26\n",
      "Batch 2800 started at 09-03-2022 20:08:55\n",
      "Batch 2900 started at 09-03-2022 20:12:26\n",
      "Batch 3000 started at 09-03-2022 20:15:58\n",
      "Shape of bert vectors: (3087, 768)\n",
      "Shape of final dataframe: (3087, 777)\n"
     ]
    }
   ],
   "source": [
    "# Vectorize text\n",
    "handlabel_vectorized = preprocess_bert(model, tokenizer, handlabel_augmented, batch_size=1)"
   ]
  },
  {
   "cell_type": "code",
   "execution_count": 7,
   "id": "497bbea6-0c3a-4005-bcb2-ad69b39a6aa4",
   "metadata": {},
   "outputs": [],
   "source": [
    "handlabel_vectorized.to_csv('../data/untuned_bert_handlabel_augmented.csv', index=False)"
   ]
  },
  {
   "cell_type": "code",
   "execution_count": 8,
   "id": "54ebca0c-1eac-42b7-a25c-c200c4f56b2e",
   "metadata": {},
   "outputs": [],
   "source": [
    "X = handlabel_vectorized[range(768)]\n",
    "y = handlabel_vectorized[labels]"
   ]
  },
  {
   "cell_type": "markdown",
   "id": "fde78481-bdac-4ebc-95fd-1e23cc0e3b83",
   "metadata": {},
   "source": [
    "# Use original text as test set, synthetic text as training set"
   ]
  },
  {
   "cell_type": "code",
   "execution_count": 9,
   "id": "df946dc3-d3e8-4dbc-86a5-149babe83d8b",
   "metadata": {},
   "outputs": [],
   "source": [
    "X_train = X.loc[227:]\n",
    "y_train = y.loc[227:]\n",
    "X_test = X.loc[:226]\n",
    "y_test = y.loc[:226]"
   ]
  },
  {
   "cell_type": "code",
   "execution_count": 10,
   "id": "a03792b8-d4dc-4114-a77a-ff2986dc8965",
   "metadata": {},
   "outputs": [],
   "source": [
    "# X_train, X_test, y_train, y_test = train_test_split(X, y, test_size=0.2, stratify = y, random_state=42)"
   ]
  },
  {
   "cell_type": "code",
   "execution_count": 11,
   "id": "e9c7da3b-1403-4ca4-8ef6-4b80854dc0cc",
   "metadata": {},
   "outputs": [
    {
     "data": {
      "text/plain": [
       "Text(0.5, 1.0, 'y_test')"
      ]
     },
     "execution_count": 11,
     "metadata": {},
     "output_type": "execute_result"
    },
    {
     "data": {
      "image/png": "[encoded data removed]",
      "text/plain": [
       "<Figure size 864x288 with 2 Axes>"
      ]
     },
     "metadata": {
      "needs_background": "light"
     },
     "output_type": "display_data"
    }
   ],
   "source": [
    "fig, ax = plt.subplots(ncols=2, figsize=(12,4), constrained_layout=True)\n",
    "\n",
    "y_train[labels].sum().sort_values().plot(kind='barh', ax=ax[0])\n",
    "ax[0].set_title('y_train')\n",
    "\n",
    "y_test[labels].sum().sort_values().plot(kind='barh', ax=ax[1])\n",
    "ax[1].set_title('y_test')"
   ]
  },
  {
   "cell_type": "code",
   "execution_count": 12,
   "id": "10c93a17-39e6-4282-9e02-a0f19d28847b",
   "metadata": {},
   "outputs": [
    {
     "data": {
      "text/plain": [
       "(227, 7)"
      ]
     },
     "execution_count": 12,
     "metadata": {},
     "output_type": "execute_result"
    }
   ],
   "source": [
    "y_test.shape"
   ]
  },
  {
   "cell_type": "code",
   "execution_count": 13,
   "id": "6d31b52a-6a95-4e1c-92cf-7c82cced83cb",
   "metadata": {},
   "outputs": [
    {
     "data": {
      "text/plain": [
       "(2860, 7)"
      ]
     },
     "execution_count": 13,
     "metadata": {},
     "output_type": "execute_result"
    }
   ],
   "source": [
    "y_train.shape"
   ]
  },
  {
   "cell_type": "code",
   "execution_count": 14,
   "id": "1fdb0a73-2179-4510-9cc6-8c420220b027",
   "metadata": {},
   "outputs": [],
   "source": [
    "ovr_svc = OneVsRestClassifier(SVC(probability=True, class_weight='balanced'))\n",
    "ovr_rfc = OneVsRestClassifier(RandomForestClassifier(max_depth=5, class_weight='balanced_subsample'))\n",
    "ovr_mlp = OneVsRestClassifier(MLPClassifier(early_stopping=True, hidden_layer_sizes=(64,32,8)))"
   ]
  },
  {
   "cell_type": "code",
   "execution_count": 15,
   "id": "83fd0dc5-2440-4974-bd37-8efa6150bbee",
   "metadata": {},
   "outputs": [
    {
     "name": "stdout",
     "output_type": "stream",
     "text": [
      "------------TRAINING DATASET RESULTS (OneVsRestClassifier(estimator=SVC(class_weight='balanced', probability=True)))------------\n",
      "\n",
      "\n",
      "                precision    recall  f1-score   support\n",
      "\n",
      " communication       0.81      0.90      0.85       861\n",
      "  waiting time       0.80      0.93      0.86      1016\n",
      "   information       0.83      0.91      0.87       863\n",
      "user interface       0.65      0.96      0.77       336\n",
      "    facilities       0.78      0.97      0.86       387\n",
      "      location       0.82      0.98      0.89       308\n",
      "         price       0.85      0.95      0.90       535\n",
      "\n",
      "     micro avg       0.80      0.93      0.86      4306\n",
      "     macro avg       0.79      0.94      0.86      4306\n",
      "  weighted avg       0.80      0.93      0.86      4306\n",
      "   samples avg       0.80      0.92      0.84      4306\n",
      "\n",
      "------------TEST DATASET RESULTS (OneVsRestClassifier(estimator=SVC(class_weight='balanced', probability=True)))------------\n",
      "\n",
      "\n",
      "                precision    recall  f1-score   support\n",
      "\n",
      " communication       0.69      0.86      0.77        57\n",
      "  waiting time       0.67      0.96      0.79        70\n",
      "   information       0.75      0.91      0.82        54\n",
      "user interface       0.57      0.88      0.69        24\n",
      "    facilities       0.72      1.00      0.84        18\n",
      "      location       1.00      1.00      1.00        11\n",
      "         price       0.70      1.00      0.82        21\n",
      "\n",
      "     micro avg       0.70      0.93      0.79       255\n",
      "     macro avg       0.73      0.94      0.82       255\n",
      "  weighted avg       0.70      0.93      0.80       255\n",
      "   samples avg       0.68      0.79      0.71       255\n",
      "\n"
     ]
    }
   ],
   "source": [
    "get_scores(ovr_svc, X_train, y_train, X_test, y_test)"
   ]
  },
  {
   "cell_type": "code",
   "execution_count": 16,
   "id": "df20d8bf-2083-48ae-87e3-c0dd67992dc8",
   "metadata": {},
   "outputs": [
    {
     "name": "stdout",
     "output_type": "stream",
     "text": [
      "------------TRAINING DATASET RESULTS (OneVsRestClassifier(estimator=RandomForestClassifier(class_weight='balanced_subsample',\n",
      "                                                     max_depth=5)))------------\n",
      "\n",
      "\n",
      "                precision    recall  f1-score   support\n",
      "\n",
      " communication       0.86      0.88      0.87       861\n",
      "  waiting time       0.86      0.95      0.90      1016\n",
      "   information       0.86      0.88      0.87       863\n",
      "user interface       0.76      0.94      0.84       336\n",
      "    facilities       0.93      0.98      0.95       387\n",
      "      location       0.92      0.94      0.93       308\n",
      "         price       0.90      0.94      0.92       535\n",
      "\n",
      "     micro avg       0.87      0.92      0.89      4306\n",
      "     macro avg       0.87      0.93      0.90      4306\n",
      "  weighted avg       0.87      0.92      0.89      4306\n",
      "   samples avg       0.84      0.90      0.86      4306\n",
      "\n",
      "------------TEST DATASET RESULTS (OneVsRestClassifier(estimator=RandomForestClassifier(class_weight='balanced_subsample',\n",
      "                                                     max_depth=5)))------------\n",
      "\n",
      "\n",
      "                precision    recall  f1-score   support\n",
      "\n",
      " communication       0.64      0.75      0.69        57\n",
      "  waiting time       0.59      0.83      0.69        70\n",
      "   information       0.78      0.72      0.75        54\n",
      "user interface       0.63      0.71      0.67        24\n",
      "    facilities       0.89      0.94      0.92        18\n",
      "      location       1.00      0.55      0.71        11\n",
      "         price       0.70      1.00      0.82        21\n",
      "\n",
      "     micro avg       0.67      0.79      0.73       255\n",
      "     macro avg       0.75      0.79      0.75       255\n",
      "  weighted avg       0.69      0.79      0.73       255\n",
      "   samples avg       0.56      0.65      0.59       255\n",
      "\n"
     ]
    }
   ],
   "source": [
    "get_scores(ovr_rfc, X_train, y_train, X_test, y_test)"
   ]
  },
  {
   "cell_type": "code",
   "execution_count": 17,
   "id": "111fdb63-28db-4fcf-8432-f67d2daba8df",
   "metadata": {},
   "outputs": [
    {
     "name": "stdout",
     "output_type": "stream",
     "text": [
      "------------TRAINING DATASET RESULTS (OneVsRestClassifier(estimator=MLPClassifier(early_stopping=True,\n",
      "                                            hidden_layer_sizes=(64, 32, 8))))------------\n",
      "\n",
      "\n",
      "                precision    recall  f1-score   support\n",
      "\n",
      " communication       0.98      0.97      0.98       861\n",
      "  waiting time       0.94      0.97      0.96      1016\n",
      "   information       0.99      0.98      0.98       863\n",
      "user interface       0.98      0.93      0.96       336\n",
      "    facilities       0.92      0.80      0.86       387\n",
      "      location       1.00      0.96      0.98       308\n",
      "         price       1.00      0.98      0.99       535\n",
      "\n",
      "     micro avg       0.97      0.95      0.96      4306\n",
      "     macro avg       0.97      0.94      0.96      4306\n",
      "  weighted avg       0.97      0.95      0.96      4306\n",
      "   samples avg       0.94      0.94      0.94      4306\n",
      "\n",
      "------------TEST DATASET RESULTS (OneVsRestClassifier(estimator=MLPClassifier(early_stopping=True,\n",
      "                                            hidden_layer_sizes=(64, 32, 8))))------------\n",
      "\n",
      "\n",
      "                precision    recall  f1-score   support\n",
      "\n",
      " communication       0.88      0.93      0.91        57\n",
      "  waiting time       0.79      0.91      0.85        70\n",
      "   information       0.87      0.96      0.91        54\n",
      "user interface       0.87      0.83      0.85        24\n",
      "    facilities       0.85      0.94      0.89        18\n",
      "      location       0.91      0.91      0.91        11\n",
      "         price       0.81      1.00      0.89        21\n",
      "\n",
      "     micro avg       0.84      0.93      0.88       255\n",
      "     macro avg       0.85      0.93      0.89       255\n",
      "  weighted avg       0.85      0.93      0.88       255\n",
      "   samples avg       0.78      0.80      0.78       255\n",
      "\n"
     ]
    }
   ],
   "source": [
    "get_scores(ovr_mlp, X_train, y_train, X_test, y_test)"
   ]
  },
  {
   "cell_type": "markdown",
   "id": "a0305929-00d7-43ae-8218-83ff19ba3fec",
   "metadata": {},
   "source": [
    "# Apply PCA to reduce dimensions"
   ]
  },
  {
   "cell_type": "code",
   "execution_count": 18,
   "id": "27db0c9e-0b51-4d57-84af-f4d8cb39e712",
   "metadata": {},
   "outputs": [],
   "source": [
    "from sklearn.decomposition import PCA"
   ]
  },
  {
   "cell_type": "code",
   "execution_count": 19,
   "id": "00b0ad23-7bf7-4e11-8e4e-56a072043db2",
   "metadata": {},
   "outputs": [],
   "source": [
    "pca = PCA(n_components=768)\n",
    "\n",
    "p_comps = pca.fit_transform(X_train)"
   ]
  },
  {
   "cell_type": "code",
   "execution_count": 20,
   "id": "4bed689a-d751-433e-9281-ab6d81724bd9",
   "metadata": {},
   "outputs": [
    {
     "data": {
      "text/plain": [
       "[<matplotlib.lines.Line2D at 0x1619de43e80>]"
      ]
     },
     "execution_count": 20,
     "metadata": {},
     "output_type": "execute_result"
    },
    {
     "data": {
      "image/png": "[encoded data removed]",
      "text/plain": [
       "<Figure size 432x288 with 1 Axes>"
      ]
     },
     "metadata": {
      "needs_background": "light"
     },
     "output_type": "display_data"
    }
   ],
   "source": [
    "plt.plot(np.cumsum(pca.explained_variance_ratio_))"
   ]
  },
  {
   "cell_type": "code",
   "execution_count": 21,
   "id": "a4462815-d1e7-4cb6-aa4f-78869ecb3a18",
   "metadata": {},
   "outputs": [
    {
     "data": {
      "text/plain": [
       "284"
      ]
     },
     "execution_count": 21,
     "metadata": {},
     "output_type": "execute_result"
    }
   ],
   "source": [
    "np.sum(np.cumsum(pca.explained_variance_ratio_) <= 0.95)"
   ]
  },
  {
   "cell_type": "code",
   "execution_count": 22,
   "id": "80e65b18-ad49-47ff-8264-42654e5d7c1f",
   "metadata": {},
   "outputs": [],
   "source": [
    "pca = PCA(n_components=296)\n",
    "\n",
    "X_train_pca = pca.fit_transform(X_train)\n",
    "X_test_pca = pca.transform(X_test)"
   ]
  },
  {
   "cell_type": "markdown",
   "id": "4c4bf87e-0b90-480f-bd2b-1899eded2da8",
   "metadata": {},
   "source": [
    "# Fit on PCA transformed"
   ]
  },
  {
   "cell_type": "code",
   "execution_count": 23,
   "id": "693ba8e8-ed1a-47e8-a22e-06072ef604f5",
   "metadata": {
    "tags": []
   },
   "outputs": [
    {
     "name": "stdout",
     "output_type": "stream",
     "text": [
      "------------TRAINING DATASET RESULTS (OneVsRestClassifier(estimator=SVC(class_weight='balanced', probability=True)))------------\n",
      "\n",
      "\n",
      "                precision    recall  f1-score   support\n",
      "\n",
      " communication       0.96      0.99      0.97       861\n",
      "  waiting time       0.93      0.99      0.96      1016\n",
      "   information       0.98      0.97      0.98       863\n",
      "user interface       0.95      1.00      0.98       336\n",
      "    facilities       0.97      1.00      0.98       387\n",
      "      location       1.00      1.00      1.00       308\n",
      "         price       0.98      1.00      0.99       535\n",
      "\n",
      "     micro avg       0.96      0.99      0.98      4306\n",
      "     macro avg       0.97      0.99      0.98      4306\n",
      "  weighted avg       0.96      0.99      0.98      4306\n",
      "   samples avg       0.96      0.99      0.97      4306\n",
      "\n",
      "------------TEST DATASET RESULTS (OneVsRestClassifier(estimator=SVC(class_weight='balanced', probability=True)))------------\n",
      "\n",
      "\n",
      "                precision    recall  f1-score   support\n",
      "\n",
      " communication       0.85      0.93      0.89        57\n",
      "  waiting time       0.81      0.96      0.88        70\n",
      "   information       0.98      0.94      0.96        54\n",
      "user interface       0.88      0.92      0.90        24\n",
      "    facilities       1.00      1.00      1.00        18\n",
      "      location       1.00      0.91      0.95        11\n",
      "         price       0.88      1.00      0.93        21\n",
      "\n",
      "     micro avg       0.88      0.95      0.91       255\n",
      "     macro avg       0.91      0.95      0.93       255\n",
      "  weighted avg       0.89      0.95      0.92       255\n",
      "   samples avg       0.78      0.81      0.79       255\n",
      "\n"
     ]
    }
   ],
   "source": [
    "get_scores(ovr_svc, X_train_pca, y_train, X_test_pca, y_test)"
   ]
  },
  {
   "cell_type": "code",
   "execution_count": 24,
   "id": "5c8c145f-ee64-484b-acbd-962dd9ed2b82",
   "metadata": {
    "tags": []
   },
   "outputs": [
    {
     "name": "stdout",
     "output_type": "stream",
     "text": [
      "------------TRAINING DATASET RESULTS (OneVsRestClassifier(estimator=RandomForestClassifier(class_weight='balanced_subsample',\n",
      "                                                     max_depth=5)))------------\n",
      "\n",
      "\n",
      "                precision    recall  f1-score   support\n",
      "\n",
      " communication       0.91      0.91      0.91       861\n",
      "  waiting time       0.89      0.96      0.93      1016\n",
      "   information       0.97      0.91      0.94       863\n",
      "user interface       0.93      0.97      0.95       336\n",
      "    facilities       0.98      0.97      0.97       387\n",
      "      location       1.00      0.94      0.97       308\n",
      "         price       0.93      0.94      0.94       535\n",
      "\n",
      "     micro avg       0.93      0.94      0.94      4306\n",
      "     macro avg       0.94      0.94      0.94      4306\n",
      "  weighted avg       0.93      0.94      0.94      4306\n",
      "   samples avg       0.90      0.93      0.91      4306\n",
      "\n",
      "------------TEST DATASET RESULTS (OneVsRestClassifier(estimator=RandomForestClassifier(class_weight='balanced_subsample',\n",
      "                                                     max_depth=5)))------------\n",
      "\n",
      "\n",
      "                precision    recall  f1-score   support\n",
      "\n",
      " communication       0.68      0.86      0.76        57\n",
      "  waiting time       0.62      0.84      0.72        70\n",
      "   information       0.80      0.69      0.74        54\n",
      "user interface       0.69      0.46      0.55        24\n",
      "    facilities       0.94      0.89      0.91        18\n",
      "      location       1.00      0.55      0.71        11\n",
      "         price       0.72      1.00      0.84        21\n",
      "\n",
      "     micro avg       0.71      0.78      0.74       255\n",
      "     macro avg       0.78      0.75      0.75       255\n",
      "  weighted avg       0.73      0.78      0.74       255\n",
      "   samples avg       0.61      0.65      0.62       255\n",
      "\n"
     ]
    }
   ],
   "source": [
    "get_scores(ovr_rfc, X_train_pca, y_train, X_test_pca, y_test)"
   ]
  },
  {
   "cell_type": "code",
   "execution_count": 25,
   "id": "38373ea0-b997-4da7-9876-f977498e659d",
   "metadata": {
    "tags": []
   },
   "outputs": [
    {
     "name": "stdout",
     "output_type": "stream",
     "text": [
      "------------TRAINING DATASET RESULTS (OneVsRestClassifier(estimator=MLPClassifier(early_stopping=True,\n",
      "                                            hidden_layer_sizes=(64, 32, 8))))------------\n",
      "\n",
      "\n",
      "                precision    recall  f1-score   support\n",
      "\n",
      " communication       0.98      0.98      0.98       861\n",
      "  waiting time       0.99      0.98      0.99      1016\n",
      "   information       0.99      0.98      0.99       863\n",
      "user interface       1.00      0.89      0.94       336\n",
      "    facilities       0.99      0.98      0.98       387\n",
      "      location       1.00      0.97      0.99       308\n",
      "         price       0.99      0.95      0.97       535\n",
      "\n",
      "     micro avg       0.99      0.97      0.98      4306\n",
      "     macro avg       0.99      0.96      0.98      4306\n",
      "  weighted avg       0.99      0.97      0.98      4306\n",
      "   samples avg       0.96      0.96      0.96      4306\n",
      "\n",
      "------------TEST DATASET RESULTS (OneVsRestClassifier(estimator=MLPClassifier(early_stopping=True,\n",
      "                                            hidden_layer_sizes=(64, 32, 8))))------------\n",
      "\n",
      "\n",
      "                precision    recall  f1-score   support\n",
      "\n",
      " communication       0.88      0.89      0.89        57\n",
      "  waiting time       0.87      0.93      0.90        70\n",
      "   information       0.93      0.94      0.94        54\n",
      "user interface       1.00      0.79      0.88        24\n",
      "    facilities       0.95      1.00      0.97        18\n",
      "      location       1.00      0.91      0.95        11\n",
      "         price       0.91      1.00      0.95        21\n",
      "\n",
      "     micro avg       0.91      0.92      0.91       255\n",
      "     macro avg       0.93      0.92      0.93       255\n",
      "  weighted avg       0.91      0.92      0.91       255\n",
      "   samples avg       0.78      0.79      0.78       255\n",
      "\n"
     ]
    }
   ],
   "source": [
    "get_scores(ovr_mlp, X_train_pca, y_train, X_test_pca, y_test)"
   ]
  },
  {
   "cell_type": "code",
   "execution_count": null,
   "id": "33cddc3f-2b7d-4795-8c18-8d64faba704f",
   "metadata": {},
   "outputs": [],
   "source": []
  },
  {
   "cell_type": "markdown",
   "id": "76110cfe-cd32-4334-a318-5950a4181d82",
   "metadata": {},
   "source": [
    "# Save best model"
   ]
  },
  {
   "cell_type": "code",
   "execution_count": 26,
   "id": "296e47b3-1042-43ab-a5e4-73181d87fa5d",
   "metadata": {},
   "outputs": [],
   "source": [
    "ovr_svc_bert_untuned_pca = OneVsRestClassifier(SVC(probability=True, class_weight='balanced'))"
   ]
  },
  {
   "cell_type": "code",
   "execution_count": 27,
   "id": "29aedef6-92d5-4144-88ff-a826346b5402",
   "metadata": {},
   "outputs": [
    {
     "name": "stdout",
     "output_type": "stream",
     "text": [
      "------------TRAINING DATASET RESULTS (OneVsRestClassifier(estimator=SVC(class_weight='balanced', probability=True)))------------\n",
      "\n",
      "\n",
      "                precision    recall  f1-score   support\n",
      "\n",
      " communication       0.96      0.99      0.97       861\n",
      "  waiting time       0.93      0.99      0.96      1016\n",
      "   information       0.98      0.97      0.98       863\n",
      "user interface       0.95      1.00      0.98       336\n",
      "    facilities       0.97      1.00      0.98       387\n",
      "      location       1.00      1.00      1.00       308\n",
      "         price       0.98      1.00      0.99       535\n",
      "\n",
      "     micro avg       0.96      0.99      0.98      4306\n",
      "     macro avg       0.97      0.99      0.98      4306\n",
      "  weighted avg       0.96      0.99      0.98      4306\n",
      "   samples avg       0.96      0.99      0.97      4306\n",
      "\n",
      "------------TEST DATASET RESULTS (OneVsRestClassifier(estimator=SVC(class_weight='balanced', probability=True)))------------\n",
      "\n",
      "\n",
      "                precision    recall  f1-score   support\n",
      "\n",
      " communication       0.85      0.93      0.89        57\n",
      "  waiting time       0.81      0.96      0.88        70\n",
      "   information       0.98      0.94      0.96        54\n",
      "user interface       0.88      0.92      0.90        24\n",
      "    facilities       1.00      1.00      1.00        18\n",
      "      location       1.00      0.91      0.95        11\n",
      "         price       0.88      1.00      0.93        21\n",
      "\n",
      "     micro avg       0.88      0.95      0.91       255\n",
      "     macro avg       0.91      0.95      0.93       255\n",
      "  weighted avg       0.89      0.95      0.92       255\n",
      "   samples avg       0.78      0.81      0.79       255\n",
      "\n"
     ]
    }
   ],
   "source": [
    "get_scores(ovr_svc_bert_untuned_pca, X_train_pca, y_train, X_test_pca, y_test)"
   ]
  },
  {
   "cell_type": "code",
   "execution_count": 28,
   "id": "f99f7ce1-b9fc-4ffe-b668-8df397d9ad62",
   "metadata": {},
   "outputs": [],
   "source": [
    "pickle.dump(ovr_svc_bert_untuned_pca, open('../models/bert_untuned_ovr_svc.sav', 'wb'))"
   ]
  },
  {
   "cell_type": "code",
   "execution_count": 29,
   "id": "a622ba07-2b0b-4e68-8836-b942185cb1d3",
   "metadata": {},
   "outputs": [],
   "source": [
    "pickle.dump(pca, open('../models/pca_bert_untuned.sav', 'wb'))"
   ]
  }
 ],
 "metadata": {
  "kernelspec": {
   "display_name": "Python 3",
   "language": "python",
   "name": "python3"
  },
  "language_info": {
   "codemirror_mode": {
    "name": "ipython",
    "version": 3
   },
   "file_extension": ".py",
   "mimetype": "text/x-python",
   "name": "python",
   "nbconvert_exporter": "python",
   "pygments_lexer": "ipython3",
   "version": "3.8.8"
  }
 },
 "nbformat": 4,
 "nbformat_minor": 5
}
